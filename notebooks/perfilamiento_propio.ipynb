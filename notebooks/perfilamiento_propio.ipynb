{
 "cells": [
  {
   "cell_type": "markdown",
   "metadata": {},
   "source": [
    "# Perfilamiento del DataSet"
   ]
  },
  {
   "cell_type": "code",
   "execution_count": 1,
   "metadata": {},
   "outputs": [],
   "source": [
    "import re\n",
    "import pandas as pd\n",
    "import numpy as np\n",
    "from pandas_profiling import ProfileReport"
   ]
  },
  {
   "cell_type": "code",
   "execution_count": 2,
   "metadata": {},
   "outputs": [],
   "source": [
    "agua = pd.read_csv('../data/consumo-agua.csv')"
   ]
  },
  {
   "cell_type": "code",
   "execution_count": 16,
   "metadata": {},
   "outputs": [
    {
     "data": {
      "text/html": [
       "<div>\n",
       "<style scoped>\n",
       "    .dataframe tbody tr th:only-of-type {\n",
       "        vertical-align: middle;\n",
       "    }\n",
       "\n",
       "    .dataframe tbody tr th {\n",
       "        vertical-align: top;\n",
       "    }\n",
       "\n",
       "    .dataframe thead th {\n",
       "        text-align: right;\n",
       "    }\n",
       "</style>\n",
       "<table border=\"1\" class=\"dataframe\">\n",
       "  <thead>\n",
       "    <tr style=\"text-align: right;\">\n",
       "      <th></th>\n",
       "      <th>Geo Point</th>\n",
       "      <th>Geo Shape</th>\n",
       "      <th>consumo_total_mixto</th>\n",
       "      <th>anio</th>\n",
       "      <th>nomgeo</th>\n",
       "      <th>consumo_prom_dom</th>\n",
       "      <th>consumo_total_dom</th>\n",
       "      <th>alcaldia</th>\n",
       "      <th>colonia</th>\n",
       "      <th>consumo_prom_mixto</th>\n",
       "      <th>consumo_total</th>\n",
       "      <th>consumo_prom</th>\n",
       "      <th>consumo_prom_no_dom</th>\n",
       "      <th>bimestre</th>\n",
       "      <th>consumo_total_no_dom</th>\n",
       "      <th>gid</th>\n",
       "      <th>indice_des</th>\n",
       "    </tr>\n",
       "  </thead>\n",
       "  <tbody>\n",
       "    <tr>\n",
       "      <th>6960</th>\n",
       "      <td>19.4885632293,-99.2031811727</td>\n",
       "      <td>{\"type\": \"MultiPolygon\", \"coordinates\": [[[[-9...</td>\n",
       "      <td>250.13</td>\n",
       "      <td>2019</td>\n",
       "      <td>Azcapotzalco</td>\n",
       "      <td>33.803735</td>\n",
       "      <td>2805.71</td>\n",
       "      <td>AZCAPOTZALCO</td>\n",
       "      <td>PUEBLO SAN JUAN TLIHUACA</td>\n",
       "      <td>50.026</td>\n",
       "      <td>3059.50</td>\n",
       "      <td>34.376404</td>\n",
       "      <td>3.660000</td>\n",
       "      <td>2</td>\n",
       "      <td>3.66</td>\n",
       "      <td>33963</td>\n",
       "      <td>BAJO</td>\n",
       "    </tr>\n",
       "    <tr>\n",
       "      <th>31107</th>\n",
       "      <td>19.3508617598,-99.2206588357</td>\n",
       "      <td>{\"type\": \"MultiPolygon\", \"coordinates\": [[[[-9...</td>\n",
       "      <td>103.70</td>\n",
       "      <td>2019</td>\n",
       "      <td>Álvaro Obregón</td>\n",
       "      <td>47.987273</td>\n",
       "      <td>1583.58</td>\n",
       "      <td>ALVARO OBREGON</td>\n",
       "      <td>AMPLIACION LAS AGUILAS</td>\n",
       "      <td>51.850</td>\n",
       "      <td>1745.23</td>\n",
       "      <td>45.927105</td>\n",
       "      <td>19.316667</td>\n",
       "      <td>3</td>\n",
       "      <td>57.95</td>\n",
       "      <td>59152</td>\n",
       "      <td>BAJO</td>\n",
       "    </tr>\n",
       "  </tbody>\n",
       "</table>\n",
       "</div>"
      ],
      "text/plain": [
       "                          Geo Point  \\\n",
       "6960   19.4885632293,-99.2031811727   \n",
       "31107  19.3508617598,-99.2206588357   \n",
       "\n",
       "                                               Geo Shape  consumo_total_mixto  \\\n",
       "6960   {\"type\": \"MultiPolygon\", \"coordinates\": [[[[-9...               250.13   \n",
       "31107  {\"type\": \"MultiPolygon\", \"coordinates\": [[[[-9...               103.70   \n",
       "\n",
       "       anio          nomgeo  consumo_prom_dom  consumo_total_dom  \\\n",
       "6960   2019    Azcapotzalco         33.803735            2805.71   \n",
       "31107  2019  Álvaro Obregón         47.987273            1583.58   \n",
       "\n",
       "             alcaldia                   colonia  consumo_prom_mixto  \\\n",
       "6960     AZCAPOTZALCO  PUEBLO SAN JUAN TLIHUACA              50.026   \n",
       "31107  ALVARO OBREGON    AMPLIACION LAS AGUILAS              51.850   \n",
       "\n",
       "       consumo_total  consumo_prom  consumo_prom_no_dom  bimestre  \\\n",
       "6960         3059.50     34.376404             3.660000         2   \n",
       "31107        1745.23     45.927105            19.316667         3   \n",
       "\n",
       "       consumo_total_no_dom    gid indice_des  \n",
       "6960                   3.66  33963       BAJO  \n",
       "31107                 57.95  59152       BAJO  "
      ]
     },
     "execution_count": 16,
     "metadata": {},
     "output_type": "execute_result"
    }
   ],
   "source": [
    "agua.sample(2)"
   ]
  },
  {
   "cell_type": "code",
   "execution_count": 3,
   "metadata": {},
   "outputs": [],
   "source": [
    "def cuenta_nulos_por_columnas(df):\n",
    "    \"\"\"\n",
    "    Función que realiza una tabla con la cuenta de missing values por columna y obtiene la proporción que estos missing\n",
    "    values representan del total.\n",
    "    \"\"\"\n",
    "    valores_nulos = df.isnull().sum()\n",
    "    porcentaje_valores_nulos = 100 * df.isnull().sum() / len(df)\n",
    "    tabla_valores_nulos = pd.concat([valores_nulos, porcentaje_valores_nulos], axis=1)\n",
    "    tabla_valores_nulos_ordenada = tabla_valores_nulos.rename(\n",
    "        columns={0: 'Missing Values', 1: '% del Total'})\n",
    "    tabla_valores_nulos_ordenada = tabla_valores_nulos_ordenada[\n",
    "        tabla_valores_nulos_ordenada.iloc[:, 1] != 0].sort_values(\n",
    "        '% del Total', ascending=False).round(1)\n",
    "    print(\"El dataframe tiene \" + str(df.shape[1]) + \" columnas.\\n\"\n",
    "                                                     \"Hay \" + str(tabla_valores_nulos_ordenada.shape[0]) +\n",
    "          \" columnas que tienen NA's.\")\n",
    "    return tabla_valores_nulos_ordenada"
   ]
  },
  {
   "cell_type": "code",
   "execution_count": 5,
   "metadata": {},
   "outputs": [
    {
     "name": "stdout",
     "output_type": "stream",
     "text": [
      "El dataframe tiene 17 columnas.\n",
      "Hay 5 columnas que tienen NA's.\n"
     ]
    },
    {
     "data": {
      "text/plain": [
       "26318"
      ]
     },
     "execution_count": 5,
     "metadata": {},
     "output_type": "execute_result"
    }
   ],
   "source": [
    "cuenta_nulos_por_columnas(agua)['Missing Values'].sum()"
   ]
  },
  {
   "cell_type": "markdown",
   "metadata": {},
   "source": [
    "## Profiling del data set completo"
   ]
  },
  {
   "cell_type": "code",
   "execution_count": 37,
   "metadata": {},
   "outputs": [],
   "source": [
    "def genera_profiling_general(df):\n",
    "    cuenta_de_variables = len(df.columns)\n",
    "    cuenta_observaciones = len(df)\n",
    "    total_celdas = cuenta_de_variables*cuenta_observaciones\n",
    "\n",
    "    # Contamos el tipo de datos del dataset\n",
    "    vars_type = df.dtypes\n",
    "    vars_type = pd.DataFrame(vars_type, columns = ['tipo'])\n",
    "\n",
    "    # Asignamos un valor para cada tipo\n",
    "\n",
    "    ## Numéricas\n",
    "    cantidad_numericas = len(vars_type.loc[vars_type[\"tipo\"] == \"int64\"])\n",
    "    cantidad_numericas = cantidad_numericas + len(vars_type.loc[vars_type[\"tipo\"] == \"float64\"])\n",
    "    #print(cantidad_numericas)\n",
    "\n",
    "    ## Fechas\n",
    "    cantidad_fecha = len(vars_type.loc[vars_type[\"tipo\"] == \"Date\"])\n",
    "    #print(cantidad_fecha)\n",
    "\n",
    "    ## Categoricas\n",
    "    cantidad_categoricas = len(vars_type.loc[vars_type[\"tipo\"] == \"category\"])\n",
    "    #print(cantidad_categoricas)\n",
    "\n",
    "    ## Texto\n",
    "    cantidad_texto = len(vars_type.loc[vars_type[\"tipo\"] == \"object\"])\n",
    "    #print(cantidad_texto)\n",
    "\n",
    "    # Contamos los faltantes\n",
    "    nulos_totales = cuenta_nulos_por_columnas(df)['Missing Values'].sum()\n",
    "    #print(nulos_totales)\n",
    "\n",
    "    # Obtenemos el porcentaje de datos que son faltantes\n",
    "    nulos_porcentaje = ((nulos_totales/(total_celdas))*100).round(1).astype(str)+'%'\n",
    "    #print(nulos_porcentaje)\n",
    "\n",
    "    # Obtenemos el total de columnas duplicadas\n",
    "    ds_duplicados = df.duplicated(subset=None, keep='first')\n",
    "    ds_duplicados = pd.DataFrame(ds_duplicados,columns = ['duplicated'])\n",
    "    numero_de_duplicados = len(ds_duplicados.loc[ds_duplicados[\"duplicated\"] == True])\n",
    "    #print(numero_de_duplicados)\n",
    "\n",
    "    # Obtenemos el porcentaje de duplicados\n",
    "    porcentaje_de_duplicados = str(((numero_de_duplicados/(total_celdas))*100))+'%'\n",
    "    #print(porcentaje_de_duplicados)\n",
    "\n",
    "    estadisticas = ['Total de variables','Conteo de observaciones','Total de celdas',\n",
    "                        'Cantidad de variables numericas','Cantidad de variables de fecha',\n",
    "                        'Cantidad de variables categóricas', 'Cantidad de variables de texto',\n",
    "                        'Valores faltantes','Porcentaje de valores faltantes',\n",
    "                        'Renglones duplicados', 'Porcentaje de valores duplicados']\n",
    "\n",
    "    valores_estadisticas = [cuenta_de_variables,cuenta_observaciones,total_celdas,cantidad_numericas,\n",
    "                        cantidad_fecha,cantidad_categoricas,cantidad_texto,nulos_totales,nulos_porcentaje,\n",
    "                        numero_de_duplicados,porcentaje_de_duplicados]\n",
    "\n",
    "    valores = {'Estadisticas':estadisticas,'Resultado':valores_estadisticas}\n",
    "\n",
    "    df_perfilamiento_general = pd.DataFrame(data=valores)\n",
    "    return df_perfilamiento_general"
   ]
  },
  {
   "cell_type": "code",
   "execution_count": 38,
   "metadata": {},
   "outputs": [
    {
     "name": "stdout",
     "output_type": "stream",
     "text": [
      "El dataframe tiene 17 columnas.\n",
      "Hay 5 columnas que tienen NA's.\n"
     ]
    },
    {
     "data": {
      "text/html": [
       "<div>\n",
       "<style scoped>\n",
       "    .dataframe tbody tr th:only-of-type {\n",
       "        vertical-align: middle;\n",
       "    }\n",
       "\n",
       "    .dataframe tbody tr th {\n",
       "        vertical-align: top;\n",
       "    }\n",
       "\n",
       "    .dataframe thead th {\n",
       "        text-align: right;\n",
       "    }\n",
       "</style>\n",
       "<table border=\"1\" class=\"dataframe\">\n",
       "  <thead>\n",
       "    <tr style=\"text-align: right;\">\n",
       "      <th></th>\n",
       "      <th>Estadisticas</th>\n",
       "      <th>Resultado</th>\n",
       "    </tr>\n",
       "  </thead>\n",
       "  <tbody>\n",
       "    <tr>\n",
       "      <th>0</th>\n",
       "      <td>Total de variables</td>\n",
       "      <td>17</td>\n",
       "    </tr>\n",
       "    <tr>\n",
       "      <th>1</th>\n",
       "      <td>Conteo de observaciones</td>\n",
       "      <td>71102</td>\n",
       "    </tr>\n",
       "    <tr>\n",
       "      <th>2</th>\n",
       "      <td>Total de celdas</td>\n",
       "      <td>1208734</td>\n",
       "    </tr>\n",
       "    <tr>\n",
       "      <th>3</th>\n",
       "      <td>Cantidad de variables numericas</td>\n",
       "      <td>11</td>\n",
       "    </tr>\n",
       "    <tr>\n",
       "      <th>4</th>\n",
       "      <td>Cantidad de variables de fecha</td>\n",
       "      <td>0</td>\n",
       "    </tr>\n",
       "    <tr>\n",
       "      <th>5</th>\n",
       "      <td>Cantidad de variables categóricas</td>\n",
       "      <td>0</td>\n",
       "    </tr>\n",
       "    <tr>\n",
       "      <th>6</th>\n",
       "      <td>Cantidad de variables de texto</td>\n",
       "      <td>6</td>\n",
       "    </tr>\n",
       "    <tr>\n",
       "      <th>7</th>\n",
       "      <td>Valores faltantes</td>\n",
       "      <td>26318</td>\n",
       "    </tr>\n",
       "    <tr>\n",
       "      <th>8</th>\n",
       "      <td>Porcentaje de valores faltantes</td>\n",
       "      <td>2.2%</td>\n",
       "    </tr>\n",
       "    <tr>\n",
       "      <th>9</th>\n",
       "      <td>Renglones duplicados</td>\n",
       "      <td>0</td>\n",
       "    </tr>\n",
       "    <tr>\n",
       "      <th>10</th>\n",
       "      <td>Porcentaje de valores duplicados</td>\n",
       "      <td>0.0%</td>\n",
       "    </tr>\n",
       "  </tbody>\n",
       "</table>\n",
       "</div>"
      ],
      "text/plain": [
       "                         Estadisticas Resultado\n",
       "0                  Total de variables        17\n",
       "1             Conteo de observaciones     71102\n",
       "2                     Total de celdas   1208734\n",
       "3     Cantidad de variables numericas        11\n",
       "4      Cantidad de variables de fecha         0\n",
       "5   Cantidad de variables categóricas         0\n",
       "6      Cantidad de variables de texto         6\n",
       "7                   Valores faltantes     26318\n",
       "8     Porcentaje de valores faltantes      2.2%\n",
       "9                Renglones duplicados         0\n",
       "10   Porcentaje de valores duplicados      0.0%"
      ]
     },
     "execution_count": 38,
     "metadata": {},
     "output_type": "execute_result"
    }
   ],
   "source": [
    "genera_profiling_general(agua)"
   ]
  },
  {
   "cell_type": "code",
   "execution_count": null,
   "metadata": {},
   "outputs": [],
   "source": []
  }
 ],
 "metadata": {
  "kernelspec": {
   "display_name": "your_virtualenv_name",
   "language": "python",
   "name": "your_virtualenv_name"
  },
  "language_info": {
   "codemirror_mode": {
    "name": "ipython",
    "version": 3
   },
   "file_extension": ".py",
   "mimetype": "text/x-python",
   "name": "python",
   "nbconvert_exporter": "python",
   "pygments_lexer": "ipython3",
   "version": "3.7.4"
  }
 },
 "nbformat": 4,
 "nbformat_minor": 4
}
