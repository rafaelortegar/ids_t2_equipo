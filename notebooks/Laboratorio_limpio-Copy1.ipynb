{
 "cells": [
  {
   "cell_type": "markdown",
   "metadata": {},
   "source": [
    "# Laboratorio 1"
   ]
  },
  {
   "cell_type": "markdown",
   "metadata": {},
   "source": [
    "Rafael Ortega  123972 \\\n",
    "Eduardo Moreno  151280 \\\n",
    "Yedam Fortiz 119523"
   ]
  },
  {
   "cell_type": "markdown",
   "metadata": {},
   "source": [
    "## Data profiling - EDA"
   ]
  },
  {
   "cell_type": "code",
   "execution_count": 1,
   "metadata": {},
   "outputs": [],
   "source": [
    "import re\n",
    "import pandas as pd\n",
    "import numpy as np\n",
    "from pandas_profiling import ProfileReport\n",
    "import csv\n",
    "import requests"
   ]
  },
  {
   "cell_type": "code",
   "execution_count": 2,
   "metadata": {},
   "outputs": [],
   "source": [
    "import sys\n",
    "sys.path.append('./../')\n",
    "\n",
    "# OPTIONAL: Load the \"autoreload\" extension so that code can change\n",
    "%load_ext autoreload\n",
    "\n",
    "#Own Library modules\n",
    "import src\n",
    "# OPTIONAL: always reload modules so that as you change code in src, it gets loaded\n",
    "%autoreload 2\n",
    "\n",
    "from src.algorithms import eda as eda_eq"
   ]
  },
  {
   "cell_type": "code",
   "execution_count": 4,
   "metadata": {},
   "outputs": [],
   "source": [
    "# para leer el archivo como local\n",
    "# agua = pd.read_csv('../data/consumo-agua.csv')\n",
    "\n",
    "# Para leer el archivo directo desde la url:\n",
    "CSV_URL = 'https://datos.cdmx.gob.mx/explore/dataset/consumo-agua/download/?format=csv&timezone=America/Mexico_City&lang=es&use_labels_for_header=true&csv_separator=%2C'\n",
    "agua_liga = pd.read_csv(CSV_URL)\n",
    "agua = agua_liga\n",
    "\n",
    "# Otra forma de extraerlo desde la liga, pero menos eficiente\n",
    "# CSV_URL = 'https://datos.cdmx.gob.mx/explore/dataset/consumo-agua/download/?format=csv&timezone=America/Mexico_City&lang=es&use_labels_for_header=true&csv_separator=%2C'\n",
    "# r = requests.get(CSV_URL)\n",
    "# with requests.Session() as s:\n",
    "#     download = s.get(CSV_URL)\n",
    "\n",
    "#     decoded_content = download.content.decode('utf-8')\n",
    "\n",
    "#     cr = csv.reader(decoded_content.splitlines(), delimiter=',')\n",
    "#     my_list = list(cr)\n",
    "\n",
    "# agua = pd.DataFrame(my_list[1:len(my_list)], columns = my_list[0])"
   ]
  },
  {
   "cell_type": "code",
   "execution_count": 4,
   "metadata": {},
   "outputs": [
    {
     "data": {
      "text/html": [
       "<div>\n",
       "<style scoped>\n",
       "    .dataframe tbody tr th:only-of-type {\n",
       "        vertical-align: middle;\n",
       "    }\n",
       "\n",
       "    .dataframe tbody tr th {\n",
       "        vertical-align: top;\n",
       "    }\n",
       "\n",
       "    .dataframe thead th {\n",
       "        text-align: right;\n",
       "    }\n",
       "</style>\n",
       "<table border=\"1\" class=\"dataframe\">\n",
       "  <thead>\n",
       "    <tr style=\"text-align: right;\">\n",
       "      <th></th>\n",
       "      <th>Geo Point</th>\n",
       "      <th>Geo Shape</th>\n",
       "      <th>consumo_total_mixto</th>\n",
       "      <th>anio</th>\n",
       "      <th>nomgeo</th>\n",
       "      <th>consumo_prom_dom</th>\n",
       "      <th>consumo_total_dom</th>\n",
       "      <th>alcaldia</th>\n",
       "      <th>colonia</th>\n",
       "      <th>consumo_prom_mixto</th>\n",
       "      <th>consumo_total</th>\n",
       "      <th>consumo_prom</th>\n",
       "      <th>consumo_prom_no_dom</th>\n",
       "      <th>bimestre</th>\n",
       "      <th>consumo_total_no_dom</th>\n",
       "      <th>gid</th>\n",
       "      <th>indice_des</th>\n",
       "    </tr>\n",
       "  </thead>\n",
       "  <tbody>\n",
       "    <tr>\n",
       "      <th>0</th>\n",
       "      <td>19.4552601937,-99.1126617526</td>\n",
       "      <td>{\"type\": \"MultiPolygon\", \"coordinates\": [[[[-9...</td>\n",
       "      <td>159.72</td>\n",
       "      <td>2019</td>\n",
       "      <td>Gustavo A. Madero</td>\n",
       "      <td>42.566364</td>\n",
       "      <td>468.23</td>\n",
       "      <td>GUSTAVO A. MADERO</td>\n",
       "      <td>7 DE NOVIEMBRE</td>\n",
       "      <td>53.24</td>\n",
       "      <td>631.00</td>\n",
       "      <td>42.066667</td>\n",
       "      <td>3.05</td>\n",
       "      <td>3</td>\n",
       "      <td>3.05</td>\n",
       "      <td>57250</td>\n",
       "      <td>ALTO</td>\n",
       "    </tr>\n",
       "    <tr>\n",
       "      <th>1</th>\n",
       "      <td>19.4552601937,-99.1126617526</td>\n",
       "      <td>{\"type\": \"MultiPolygon\", \"coordinates\": [[[[-9...</td>\n",
       "      <td>0.00</td>\n",
       "      <td>2019</td>\n",
       "      <td>Gustavo A. Madero</td>\n",
       "      <td>35.936667</td>\n",
       "      <td>107.81</td>\n",
       "      <td>GUSTAVO A. MADERO</td>\n",
       "      <td>7 DE NOVIEMBRE</td>\n",
       "      <td>0.00</td>\n",
       "      <td>115.13</td>\n",
       "      <td>28.782500</td>\n",
       "      <td>7.32</td>\n",
       "      <td>3</td>\n",
       "      <td>7.32</td>\n",
       "      <td>57253</td>\n",
       "      <td>MEDIO</td>\n",
       "    </tr>\n",
       "    <tr>\n",
       "      <th>2</th>\n",
       "      <td>19.4557195871,-99.1135822797</td>\n",
       "      <td>{\"type\": \"MultiPolygon\", \"coordinates\": [[[[-9...</td>\n",
       "      <td>0.00</td>\n",
       "      <td>2019</td>\n",
       "      <td>Gustavo A. Madero</td>\n",
       "      <td>24.586000</td>\n",
       "      <td>122.93</td>\n",
       "      <td>GUSTAVO A. MADERO</td>\n",
       "      <td>7 DE NOVIEMBRE</td>\n",
       "      <td>0.00</td>\n",
       "      <td>197.96</td>\n",
       "      <td>32.993333</td>\n",
       "      <td>75.03</td>\n",
       "      <td>3</td>\n",
       "      <td>75.03</td>\n",
       "      <td>57255</td>\n",
       "      <td>POPULAR</td>\n",
       "    </tr>\n",
       "    <tr>\n",
       "      <th>3</th>\n",
       "      <td>19.4596467168,-99.1044693641</td>\n",
       "      <td>{\"type\": \"MultiPolygon\", \"coordinates\": [[[[-9...</td>\n",
       "      <td>0.00</td>\n",
       "      <td>2019</td>\n",
       "      <td>Gustavo A. Madero</td>\n",
       "      <td>0.000000</td>\n",
       "      <td>0.00</td>\n",
       "      <td>GUSTAVO A. MADERO</td>\n",
       "      <td>NUEVA TENOCHTITLAN</td>\n",
       "      <td>0.00</td>\n",
       "      <td>253.53</td>\n",
       "      <td>84.510000</td>\n",
       "      <td>84.51</td>\n",
       "      <td>3</td>\n",
       "      <td>253.53</td>\n",
       "      <td>57267</td>\n",
       "      <td>BAJO</td>\n",
       "    </tr>\n",
       "    <tr>\n",
       "      <th>4</th>\n",
       "      <td>19.4741606185,-99.1467497317</td>\n",
       "      <td>{\"type\": \"MultiPolygon\", \"coordinates\": [[[[-9...</td>\n",
       "      <td>56.72</td>\n",
       "      <td>2019</td>\n",
       "      <td>Azcapotzalco</td>\n",
       "      <td>67.436250</td>\n",
       "      <td>539.49</td>\n",
       "      <td>AZCAPOTZALCO</td>\n",
       "      <td>PROHOGAR</td>\n",
       "      <td>56.72</td>\n",
       "      <td>839.35</td>\n",
       "      <td>76.304545</td>\n",
       "      <td>121.57</td>\n",
       "      <td>3</td>\n",
       "      <td>243.14</td>\n",
       "      <td>57330</td>\n",
       "      <td>BAJO</td>\n",
       "    </tr>\n",
       "  </tbody>\n",
       "</table>\n",
       "</div>"
      ],
      "text/plain": [
       "                      Geo Point  \\\n",
       "0  19.4552601937,-99.1126617526   \n",
       "1  19.4552601937,-99.1126617526   \n",
       "2  19.4557195871,-99.1135822797   \n",
       "3  19.4596467168,-99.1044693641   \n",
       "4  19.4741606185,-99.1467497317   \n",
       "\n",
       "                                           Geo Shape  consumo_total_mixto  \\\n",
       "0  {\"type\": \"MultiPolygon\", \"coordinates\": [[[[-9...               159.72   \n",
       "1  {\"type\": \"MultiPolygon\", \"coordinates\": [[[[-9...                 0.00   \n",
       "2  {\"type\": \"MultiPolygon\", \"coordinates\": [[[[-9...                 0.00   \n",
       "3  {\"type\": \"MultiPolygon\", \"coordinates\": [[[[-9...                 0.00   \n",
       "4  {\"type\": \"MultiPolygon\", \"coordinates\": [[[[-9...                56.72   \n",
       "\n",
       "   anio             nomgeo  consumo_prom_dom  consumo_total_dom  \\\n",
       "0  2019  Gustavo A. Madero         42.566364             468.23   \n",
       "1  2019  Gustavo A. Madero         35.936667             107.81   \n",
       "2  2019  Gustavo A. Madero         24.586000             122.93   \n",
       "3  2019  Gustavo A. Madero          0.000000               0.00   \n",
       "4  2019       Azcapotzalco         67.436250             539.49   \n",
       "\n",
       "            alcaldia             colonia  consumo_prom_mixto  consumo_total  \\\n",
       "0  GUSTAVO A. MADERO      7 DE NOVIEMBRE               53.24         631.00   \n",
       "1  GUSTAVO A. MADERO      7 DE NOVIEMBRE                0.00         115.13   \n",
       "2  GUSTAVO A. MADERO      7 DE NOVIEMBRE                0.00         197.96   \n",
       "3  GUSTAVO A. MADERO  NUEVA TENOCHTITLAN                0.00         253.53   \n",
       "4       AZCAPOTZALCO            PROHOGAR               56.72         839.35   \n",
       "\n",
       "   consumo_prom  consumo_prom_no_dom  bimestre  consumo_total_no_dom    gid  \\\n",
       "0     42.066667                 3.05         3                  3.05  57250   \n",
       "1     28.782500                 7.32         3                  7.32  57253   \n",
       "2     32.993333                75.03         3                 75.03  57255   \n",
       "3     84.510000                84.51         3                253.53  57267   \n",
       "4     76.304545               121.57         3                243.14  57330   \n",
       "\n",
       "  indice_des  \n",
       "0       ALTO  \n",
       "1      MEDIO  \n",
       "2    POPULAR  \n",
       "3       BAJO  \n",
       "4       BAJO  "
      ]
     },
     "execution_count": 4,
     "metadata": {},
     "output_type": "execute_result"
    }
   ],
   "source": [
    "agua.head()"
   ]
  },
  {
   "cell_type": "markdown",
   "metadata": {},
   "source": [
    "### ¿Cuántas variables tenemos?"
   ]
  },
  {
   "cell_type": "code",
   "execution_count": 5,
   "metadata": {},
   "outputs": [
    {
     "data": {
      "text/plain": [
       "17"
      ]
     },
     "execution_count": 5,
     "metadata": {},
     "output_type": "execute_result"
    }
   ],
   "source": [
    "len(agua.columns)"
   ]
  },
  {
   "cell_type": "markdown",
   "metadata": {},
   "source": [
    "### ¿Cuántas observaciones tenemos?"
   ]
  },
  {
   "cell_type": "code",
   "execution_count": 6,
   "metadata": {},
   "outputs": [
    {
     "data": {
      "text/plain": [
       "71102"
      ]
     },
     "execution_count": 6,
     "metadata": {},
     "output_type": "execute_result"
    }
   ],
   "source": [
    "len(agua)"
   ]
  },
  {
   "cell_type": "markdown",
   "metadata": {},
   "source": [
    "### ¿Cuántas observaciones únicas tenemos por variable?"
   ]
  },
  {
   "cell_type": "code",
   "execution_count": 7,
   "metadata": {},
   "outputs": [
    {
     "data": {
      "text/plain": [
       "Geo Point               22930\n",
       "Geo Shape               22922\n",
       "consumo_total_mixto     24339\n",
       "anio                        1\n",
       "nomgeo                     17\n",
       "consumo_prom_dom        52060\n",
       "consumo_total_dom       47051\n",
       "alcaldia                   16\n",
       "colonia                  1340\n",
       "consumo_prom_mixto      31911\n",
       "consumo_total           56015\n",
       "consumo_prom            62214\n",
       "consumo_prom_no_dom     37440\n",
       "bimestre                    3\n",
       "consumo_total_no_dom    27336\n",
       "gid                     71102\n",
       "indice_des                  4\n",
       "dtype: int64"
      ]
     },
     "execution_count": 7,
     "metadata": {},
     "output_type": "execute_result"
    }
   ],
   "source": [
    "agua.nunique()"
   ]
  },
  {
   "cell_type": "markdown",
   "metadata": {},
   "source": [
    "#### Transformaciones que deberán realizarse más adelantte:\n",
    "Geo Point                object --> split y dos float  \n",
    "Geo Shape                object   \n",
    "consumo_total_mixto     float64  \n",
    "anio                      int64 --> Eliminar    \n",
    "nomgeo                   object --> Categorica    \n",
    "consumo_prom_dom        float64  \n",
    "consumo_total_dom       float64  \n",
    "alcaldia                 object --> Categorica   \n",
    "colonia                  object --> Categorica  \n",
    "consumo_prom_mixto      float64  \n",
    "consumo_total           float64  \n",
    "consumo_prom            float64  \n",
    "consumo_prom_no_dom     float64  \n",
    "bimestre                  int64 --> Categorica  \n",
    "consumo_total_no_dom    float64  \n",
    "gid                       int64 --> Categorica    \n",
    "indice_des               object --> Categorica   "
   ]
  },
  {
   "cell_type": "markdown",
   "metadata": {},
   "source": [
    "### ¿Cuántas variables numéricas tenemos?"
   ]
  },
  {
   "cell_type": "code",
   "execution_count": 8,
   "metadata": {},
   "outputs": [
    {
     "data": {
      "text/plain": [
       "11"
      ]
     },
     "execution_count": 8,
     "metadata": {},
     "output_type": "execute_result"
    }
   ],
   "source": [
    "eda_eq.cuenta_tipo_de_dato(agua,'numerico')"
   ]
  },
  {
   "cell_type": "markdown",
   "metadata": {},
   "source": [
    "### ¿Cuántas variables de fecha tenemos?"
   ]
  },
  {
   "cell_type": "code",
   "execution_count": 9,
   "metadata": {},
   "outputs": [
    {
     "data": {
      "text/plain": [
       "0"
      ]
     },
     "execution_count": 9,
     "metadata": {},
     "output_type": "execute_result"
    }
   ],
   "source": [
    "eda_eq.cuenta_tipo_de_dato(agua,'Date')"
   ]
  },
  {
   "cell_type": "markdown",
   "metadata": {},
   "source": [
    "### ¿Cuántas variables categóricas tenemos?"
   ]
  },
  {
   "cell_type": "code",
   "execution_count": 10,
   "metadata": {},
   "outputs": [
    {
     "data": {
      "text/plain": [
       "0"
      ]
     },
     "execution_count": 10,
     "metadata": {},
     "output_type": "execute_result"
    }
   ],
   "source": [
    "eda_eq.cuenta_tipo_de_dato(agua,'category')"
   ]
  },
  {
   "cell_type": "markdown",
   "metadata": {},
   "source": [
    "### ¿Cuántas variables de texto tenemos?"
   ]
  },
  {
   "cell_type": "code",
   "execution_count": 11,
   "metadata": {},
   "outputs": [
    {
     "data": {
      "text/plain": [
       "6"
      ]
     },
     "execution_count": 11,
     "metadata": {},
     "output_type": "execute_result"
    }
   ],
   "source": [
    "eda_eq.cuenta_tipo_de_dato(agua,'object')"
   ]
  },
  {
   "cell_type": "markdown",
   "metadata": {},
   "source": [
    "### Genera el profiling de cada variable (propio)"
   ]
  },
  {
   "cell_type": "markdown",
   "metadata": {},
   "source": [
    "#### Perfilamiento general"
   ]
  },
  {
   "cell_type": "code",
   "execution_count": 12,
   "metadata": {},
   "outputs": [
    {
     "name": "stdout",
     "output_type": "stream",
     "text": [
      "El dataframe tiene 17 columnas.\n",
      "Hay 5 columnas que tienen NA's.\n"
     ]
    },
    {
     "data": {
      "text/html": [
       "<div>\n",
       "<style scoped>\n",
       "    .dataframe tbody tr th:only-of-type {\n",
       "        vertical-align: middle;\n",
       "    }\n",
       "\n",
       "    .dataframe tbody tr th {\n",
       "        vertical-align: top;\n",
       "    }\n",
       "\n",
       "    .dataframe thead th {\n",
       "        text-align: right;\n",
       "    }\n",
       "</style>\n",
       "<table border=\"1\" class=\"dataframe\">\n",
       "  <thead>\n",
       "    <tr style=\"text-align: right;\">\n",
       "      <th></th>\n",
       "      <th>Estadisticas</th>\n",
       "      <th>Resultado</th>\n",
       "    </tr>\n",
       "  </thead>\n",
       "  <tbody>\n",
       "    <tr>\n",
       "      <th>0</th>\n",
       "      <td>Total de variables</td>\n",
       "      <td>17</td>\n",
       "    </tr>\n",
       "    <tr>\n",
       "      <th>1</th>\n",
       "      <td>Conteo de observaciones</td>\n",
       "      <td>71102</td>\n",
       "    </tr>\n",
       "    <tr>\n",
       "      <th>2</th>\n",
       "      <td>Total de celdas</td>\n",
       "      <td>1208734</td>\n",
       "    </tr>\n",
       "    <tr>\n",
       "      <th>3</th>\n",
       "      <td>Cantidad de variables numericas</td>\n",
       "      <td>11</td>\n",
       "    </tr>\n",
       "    <tr>\n",
       "      <th>4</th>\n",
       "      <td>Cantidad de variables de fecha</td>\n",
       "      <td>0</td>\n",
       "    </tr>\n",
       "    <tr>\n",
       "      <th>5</th>\n",
       "      <td>Cantidad de variables categóricas</td>\n",
       "      <td>0</td>\n",
       "    </tr>\n",
       "    <tr>\n",
       "      <th>6</th>\n",
       "      <td>Cantidad de variables de texto</td>\n",
       "      <td>6</td>\n",
       "    </tr>\n",
       "    <tr>\n",
       "      <th>7</th>\n",
       "      <td>Valores faltantes</td>\n",
       "      <td>26318</td>\n",
       "    </tr>\n",
       "    <tr>\n",
       "      <th>8</th>\n",
       "      <td>Porcentaje de valores faltantes</td>\n",
       "      <td>2.2%</td>\n",
       "    </tr>\n",
       "    <tr>\n",
       "      <th>9</th>\n",
       "      <td>Renglones duplicados</td>\n",
       "      <td>0</td>\n",
       "    </tr>\n",
       "    <tr>\n",
       "      <th>10</th>\n",
       "      <td>Porcentaje de valores duplicados</td>\n",
       "      <td>0.0%</td>\n",
       "    </tr>\n",
       "  </tbody>\n",
       "</table>\n",
       "</div>"
      ],
      "text/plain": [
       "                         Estadisticas Resultado\n",
       "0                  Total de variables        17\n",
       "1             Conteo de observaciones     71102\n",
       "2                     Total de celdas   1208734\n",
       "3     Cantidad de variables numericas        11\n",
       "4      Cantidad de variables de fecha         0\n",
       "5   Cantidad de variables categóricas         0\n",
       "6      Cantidad de variables de texto         6\n",
       "7                   Valores faltantes     26318\n",
       "8     Porcentaje de valores faltantes      2.2%\n",
       "9                Renglones duplicados         0\n",
       "10   Porcentaje de valores duplicados      0.0%"
      ]
     },
     "execution_count": 12,
     "metadata": {},
     "output_type": "execute_result"
    }
   ],
   "source": [
    "eda_eq.genera_profiling_general(agua)"
   ]
  },
  {
   "cell_type": "code",
   "execution_count": 13,
   "metadata": {},
   "outputs": [
    {
     "name": "stdout",
     "output_type": "stream",
     "text": [
      "El dataframe tiene 17 columnas.\n",
      "Hay 5 columnas que tienen NA's.\n"
     ]
    },
    {
     "data": {
      "text/html": [
       "<div>\n",
       "<style scoped>\n",
       "    .dataframe tbody tr th:only-of-type {\n",
       "        vertical-align: middle;\n",
       "    }\n",
       "\n",
       "    .dataframe tbody tr th {\n",
       "        vertical-align: top;\n",
       "    }\n",
       "\n",
       "    .dataframe thead th {\n",
       "        text-align: right;\n",
       "    }\n",
       "</style>\n",
       "<table border=\"1\" class=\"dataframe\">\n",
       "  <thead>\n",
       "    <tr style=\"text-align: right;\">\n",
       "      <th></th>\n",
       "      <th>Missing Values</th>\n",
       "      <th>% del Total</th>\n",
       "    </tr>\n",
       "  </thead>\n",
       "  <tbody>\n",
       "    <tr>\n",
       "      <th>consumo_total_mixto</th>\n",
       "      <td>8327</td>\n",
       "      <td>11.7</td>\n",
       "    </tr>\n",
       "    <tr>\n",
       "      <th>consumo_prom_mixto</th>\n",
       "      <td>8327</td>\n",
       "      <td>11.7</td>\n",
       "    </tr>\n",
       "    <tr>\n",
       "      <th>consumo_prom_dom</th>\n",
       "      <td>4820</td>\n",
       "      <td>6.8</td>\n",
       "    </tr>\n",
       "    <tr>\n",
       "      <th>consumo_total_dom</th>\n",
       "      <td>4820</td>\n",
       "      <td>6.8</td>\n",
       "    </tr>\n",
       "    <tr>\n",
       "      <th>Geo Shape</th>\n",
       "      <td>24</td>\n",
       "      <td>0.0</td>\n",
       "    </tr>\n",
       "  </tbody>\n",
       "</table>\n",
       "</div>"
      ],
      "text/plain": [
       "                     Missing Values  % del Total\n",
       "consumo_total_mixto            8327         11.7\n",
       "consumo_prom_mixto             8327         11.7\n",
       "consumo_prom_dom               4820          6.8\n",
       "consumo_total_dom              4820          6.8\n",
       "Geo Shape                        24          0.0"
      ]
     },
     "execution_count": 13,
     "metadata": {},
     "output_type": "execute_result"
    }
   ],
   "source": [
    "eda_eq.cuenta_nulos_por_columnas(agua)"
   ]
  },
  {
   "cell_type": "code",
   "execution_count": 14,
   "metadata": {},
   "outputs": [
    {
     "name": "stdout",
     "output_type": "stream",
     "text": [
      "Existen un total de:  8908 renglones con al menos un valor nulo\n",
      "\n",
      "Representan el 12.53% del total de renglones.\n"
     ]
    },
    {
     "data": {
      "text/plain": [
       "8908"
      ]
     },
     "execution_count": 14,
     "metadata": {},
     "output_type": "execute_result"
    }
   ],
   "source": [
    "eda_eq.cuenta_nulos_por_renglones(agua)"
   ]
  },
  {
   "cell_type": "code",
   "execution_count": 15,
   "metadata": {},
   "outputs": [
    {
     "data": {
      "text/html": [
       "<div>\n",
       "<style scoped>\n",
       "    .dataframe tbody tr th:only-of-type {\n",
       "        vertical-align: middle;\n",
       "    }\n",
       "\n",
       "    .dataframe tbody tr th {\n",
       "        vertical-align: top;\n",
       "    }\n",
       "\n",
       "    .dataframe thead th {\n",
       "        text-align: right;\n",
       "    }\n",
       "</style>\n",
       "<table border=\"1\" class=\"dataframe\">\n",
       "  <thead>\n",
       "    <tr style=\"text-align: right;\">\n",
       "      <th></th>\n",
       "      <th>renglon</th>\n",
       "      <th>valores_nulos</th>\n",
       "    </tr>\n",
       "  </thead>\n",
       "  <tbody>\n",
       "    <tr>\n",
       "      <th>54555</th>\n",
       "      <td>Nan in row 54555</td>\n",
       "      <td>5</td>\n",
       "    </tr>\n",
       "    <tr>\n",
       "      <th>13306</th>\n",
       "      <td>Nan in row 13306</td>\n",
       "      <td>4</td>\n",
       "    </tr>\n",
       "    <tr>\n",
       "      <th>24048</th>\n",
       "      <td>Nan in row 24048</td>\n",
       "      <td>4</td>\n",
       "    </tr>\n",
       "    <tr>\n",
       "      <th>24061</th>\n",
       "      <td>Nan in row 24061</td>\n",
       "      <td>4</td>\n",
       "    </tr>\n",
       "    <tr>\n",
       "      <th>52584</th>\n",
       "      <td>Nan in row 52584</td>\n",
       "      <td>4</td>\n",
       "    </tr>\n",
       "    <tr>\n",
       "      <th>24052</th>\n",
       "      <td>Nan in row 24052</td>\n",
       "      <td>4</td>\n",
       "    </tr>\n",
       "    <tr>\n",
       "      <th>55696</th>\n",
       "      <td>Nan in row 55696</td>\n",
       "      <td>4</td>\n",
       "    </tr>\n",
       "    <tr>\n",
       "      <th>24050</th>\n",
       "      <td>Nan in row 24050</td>\n",
       "      <td>4</td>\n",
       "    </tr>\n",
       "    <tr>\n",
       "      <th>24049</th>\n",
       "      <td>Nan in row 24049</td>\n",
       "      <td>4</td>\n",
       "    </tr>\n",
       "    <tr>\n",
       "      <th>52583</th>\n",
       "      <td>Nan in row 52583</td>\n",
       "      <td>4</td>\n",
       "    </tr>\n",
       "  </tbody>\n",
       "</table>\n",
       "</div>"
      ],
      "text/plain": [
       "                renglon  valores_nulos\n",
       "54555  Nan in row 54555              5\n",
       "13306  Nan in row 13306              4\n",
       "24048  Nan in row 24048              4\n",
       "24061  Nan in row 24061              4\n",
       "52584  Nan in row 52584              4\n",
       "24052  Nan in row 24052              4\n",
       "55696  Nan in row 55696              4\n",
       "24050  Nan in row 24050              4\n",
       "24049  Nan in row 24049              4\n",
       "52583  Nan in row 52583              4"
      ]
     },
     "execution_count": 15,
     "metadata": {},
     "output_type": "execute_result"
    }
   ],
   "source": [
    "eda_eq.cuenta_nulos_por_renglones_tabla(agua)"
   ]
  },
  {
   "cell_type": "markdown",
   "metadata": {},
   "source": [
    "## Perfilamiento por variable"
   ]
  },
  {
   "cell_type": "code",
   "execution_count": 16,
   "metadata": {},
   "outputs": [],
   "source": [
    "profiling_numerico,profiling_categoricas,profiling_texto = eda_eq.genera_profiling_por_variable(agua)"
   ]
  },
  {
   "cell_type": "code",
   "execution_count": 17,
   "metadata": {},
   "outputs": [
    {
     "data": {
      "text/html": [
       "<div>\n",
       "<style scoped>\n",
       "    .dataframe tbody tr th:only-of-type {\n",
       "        vertical-align: middle;\n",
       "    }\n",
       "\n",
       "    .dataframe tbody tr th {\n",
       "        vertical-align: top;\n",
       "    }\n",
       "\n",
       "    .dataframe thead th {\n",
       "        text-align: right;\n",
       "    }\n",
       "</style>\n",
       "<table border=\"1\" class=\"dataframe\">\n",
       "  <thead>\n",
       "    <tr style=\"text-align: right;\">\n",
       "      <th></th>\n",
       "      <th>metrica</th>\n",
       "      <th>anio</th>\n",
       "      <th>bimestre</th>\n",
       "      <th>gid</th>\n",
       "      <th>consumo_total_mixto</th>\n",
       "      <th>consumo_prom_dom</th>\n",
       "      <th>consumo_total_dom</th>\n",
       "      <th>consumo_prom_mixto</th>\n",
       "      <th>consumo_total</th>\n",
       "      <th>consumo_prom</th>\n",
       "      <th>consumo_prom_no_dom</th>\n",
       "      <th>consumo_total_no_dom</th>\n",
       "    </tr>\n",
       "  </thead>\n",
       "  <tbody>\n",
       "    <tr>\n",
       "      <th>0</th>\n",
       "      <td>tipo</td>\n",
       "      <td>int64</td>\n",
       "      <td>int64</td>\n",
       "      <td>int64</td>\n",
       "      <td>float64</td>\n",
       "      <td>float64</td>\n",
       "      <td>float64</td>\n",
       "      <td>float64</td>\n",
       "      <td>float64</td>\n",
       "      <td>float64</td>\n",
       "      <td>float64</td>\n",
       "      <td>float64</td>\n",
       "    </tr>\n",
       "    <tr>\n",
       "      <th>1</th>\n",
       "      <td>numero de observaciones</td>\n",
       "      <td>71102</td>\n",
       "      <td>71102</td>\n",
       "      <td>71102</td>\n",
       "      <td>62775</td>\n",
       "      <td>66282</td>\n",
       "      <td>66282</td>\n",
       "      <td>62775</td>\n",
       "      <td>71102</td>\n",
       "      <td>71102</td>\n",
       "      <td>71102</td>\n",
       "      <td>71102</td>\n",
       "    </tr>\n",
       "    <tr>\n",
       "      <th>2</th>\n",
       "      <td>media</td>\n",
       "      <td>2019</td>\n",
       "      <td>2.01</td>\n",
       "      <td>35551.5</td>\n",
       "      <td>174.36</td>\n",
       "      <td>29.13</td>\n",
       "      <td>1186.26</td>\n",
       "      <td>50.64</td>\n",
       "      <td>1695.85</td>\n",
       "      <td>111.22</td>\n",
       "      <td>126.76</td>\n",
       "      <td>436.06</td>\n",
       "    </tr>\n",
       "    <tr>\n",
       "      <th>3</th>\n",
       "      <td>desviacion estándar</td>\n",
       "      <td>0</td>\n",
       "      <td>0.81</td>\n",
       "      <td>20525.5</td>\n",
       "      <td>312.66</td>\n",
       "      <td>64.57</td>\n",
       "      <td>2771.04</td>\n",
       "      <td>130.41</td>\n",
       "      <td>3555.7</td>\n",
       "      <td>1069.95</td>\n",
       "      <td>1095.82</td>\n",
       "      <td>2126.15</td>\n",
       "    </tr>\n",
       "    <tr>\n",
       "      <th>4</th>\n",
       "      <td>cuartil 25%</td>\n",
       "      <td>2019</td>\n",
       "      <td>1</td>\n",
       "      <td>17776.2</td>\n",
       "      <td>0</td>\n",
       "      <td>18.69</td>\n",
       "      <td>161.64</td>\n",
       "      <td>0</td>\n",
       "      <td>340.95</td>\n",
       "      <td>23.01</td>\n",
       "      <td>6.28</td>\n",
       "      <td>10.98</td>\n",
       "    </tr>\n",
       "    <tr>\n",
       "      <th>5</th>\n",
       "      <td>cuartil 50%</td>\n",
       "      <td>2019</td>\n",
       "      <td>2</td>\n",
       "      <td>35551.5</td>\n",
       "      <td>79.94</td>\n",
       "      <td>26.41</td>\n",
       "      <td>604.18</td>\n",
       "      <td>33.45</td>\n",
       "      <td>896.18</td>\n",
       "      <td>31.69</td>\n",
       "      <td>19.28</td>\n",
       "      <td>54.06</td>\n",
       "    </tr>\n",
       "    <tr>\n",
       "      <th>6</th>\n",
       "      <td>cuartil 75%</td>\n",
       "      <td>2019</td>\n",
       "      <td>3</td>\n",
       "      <td>53326.8</td>\n",
       "      <td>233.32</td>\n",
       "      <td>36.25</td>\n",
       "      <td>1261.45</td>\n",
       "      <td>61.22</td>\n",
       "      <td>1808.9</td>\n",
       "      <td>45.48</td>\n",
       "      <td>54.19</td>\n",
       "      <td>230.43</td>\n",
       "    </tr>\n",
       "    <tr>\n",
       "      <th>7</th>\n",
       "      <td>minimo</td>\n",
       "      <td>2019</td>\n",
       "      <td>1</td>\n",
       "      <td>1</td>\n",
       "      <td>0</td>\n",
       "      <td>0</td>\n",
       "      <td>0</td>\n",
       "      <td>0</td>\n",
       "      <td>0</td>\n",
       "      <td>0</td>\n",
       "      <td>0</td>\n",
       "      <td>0</td>\n",
       "    </tr>\n",
       "    <tr>\n",
       "      <th>8</th>\n",
       "      <td>maximo</td>\n",
       "      <td>2019</td>\n",
       "      <td>3</td>\n",
       "      <td>71102</td>\n",
       "      <td>23404.4</td>\n",
       "      <td>7796.41</td>\n",
       "      <td>95060.7</td>\n",
       "      <td>11702.2</td>\n",
       "      <td>119727</td>\n",
       "      <td>89691.8</td>\n",
       "      <td>89691.8</td>\n",
       "      <td>119727</td>\n",
       "    </tr>\n",
       "    <tr>\n",
       "      <th>9</th>\n",
       "      <td>numero de observaciones unicas</td>\n",
       "      <td>1</td>\n",
       "      <td>3</td>\n",
       "      <td>71102</td>\n",
       "      <td>24339</td>\n",
       "      <td>52060</td>\n",
       "      <td>47051</td>\n",
       "      <td>31911</td>\n",
       "      <td>56015</td>\n",
       "      <td>62214</td>\n",
       "      <td>37440</td>\n",
       "      <td>27336</td>\n",
       "    </tr>\n",
       "    <tr>\n",
       "      <th>10</th>\n",
       "      <td>top5 repetidos</td>\n",
       "      <td>conteo_top_5\n",
       "2019         71102</td>\n",
       "      <td>conteo_top_5\n",
       "2         23942\n",
       "3         2382...</td>\n",
       "      <td>conteo_top_5\n",
       "2047              1\n",
       "22517 ...</td>\n",
       "      <td>conteo_top_5\n",
       "0.0          17715\n",
       "36.0    ...</td>\n",
       "      <td>conteo_top_5\n",
       "0.00           9861\n",
       "1.22  ...</td>\n",
       "      <td>conteo_top_5\n",
       "0.00           9861\n",
       "1.22  ...</td>\n",
       "      <td>conteo_top_5\n",
       "0.00          17715\n",
       "36.00 ...</td>\n",
       "      <td>conteo_top_5\n",
       "0.00          2451\n",
       "3.05    ...</td>\n",
       "      <td>conteo_top_5\n",
       "0.00          2451\n",
       "1.22    ...</td>\n",
       "      <td>conteo_top_5\n",
       "0.00          8109\n",
       "1.22    ...</td>\n",
       "      <td>conteo_top_5\n",
       "0.00          8109\n",
       "1.22    ...</td>\n",
       "    </tr>\n",
       "  </tbody>\n",
       "</table>\n",
       "</div>"
      ],
      "text/plain": [
       "                           metrica                                   anio  \\\n",
       "0                             tipo                                  int64   \n",
       "1          numero de observaciones                                  71102   \n",
       "2                            media                                   2019   \n",
       "3              desviacion estándar                                      0   \n",
       "4                      cuartil 25%                                   2019   \n",
       "5                      cuartil 50%                                   2019   \n",
       "6                      cuartil 75%                                   2019   \n",
       "7                           minimo                                   2019   \n",
       "8                           maximo                                   2019   \n",
       "9   numero de observaciones unicas                                      1   \n",
       "10                  top5 repetidos        conteo_top_5\n",
       "2019         71102   \n",
       "\n",
       "                                             bimestre  \\\n",
       "0                                               int64   \n",
       "1                                               71102   \n",
       "2                                                2.01   \n",
       "3                                                0.81   \n",
       "4                                                   1   \n",
       "5                                                   2   \n",
       "6                                                   3   \n",
       "7                                                   1   \n",
       "8                                                   3   \n",
       "9                                                   3   \n",
       "10     conteo_top_5\n",
       "2         23942\n",
       "3         2382...   \n",
       "\n",
       "                                                  gid  \\\n",
       "0                                               int64   \n",
       "1                                               71102   \n",
       "2                                             35551.5   \n",
       "3                                             20525.5   \n",
       "4                                             17776.2   \n",
       "5                                             35551.5   \n",
       "6                                             53326.8   \n",
       "7                                                   1   \n",
       "8                                               71102   \n",
       "9                                               71102   \n",
       "10         conteo_top_5\n",
       "2047              1\n",
       "22517 ...   \n",
       "\n",
       "                                  consumo_total_mixto  \\\n",
       "0                                             float64   \n",
       "1                                               62775   \n",
       "2                                              174.36   \n",
       "3                                              312.66   \n",
       "4                                                   0   \n",
       "5                                               79.94   \n",
       "6                                              233.32   \n",
       "7                                                   0   \n",
       "8                                             23404.4   \n",
       "9                                               24339   \n",
       "10        conteo_top_5\n",
       "0.0          17715\n",
       "36.0    ...   \n",
       "\n",
       "                                     consumo_prom_dom  \\\n",
       "0                                             float64   \n",
       "1                                               66282   \n",
       "2                                               29.13   \n",
       "3                                               64.57   \n",
       "4                                               18.69   \n",
       "5                                               26.41   \n",
       "6                                               36.25   \n",
       "7                                                   0   \n",
       "8                                             7796.41   \n",
       "9                                               52060   \n",
       "10         conteo_top_5\n",
       "0.00           9861\n",
       "1.22  ...   \n",
       "\n",
       "                                    consumo_total_dom  \\\n",
       "0                                             float64   \n",
       "1                                               66282   \n",
       "2                                             1186.26   \n",
       "3                                             2771.04   \n",
       "4                                              161.64   \n",
       "5                                              604.18   \n",
       "6                                             1261.45   \n",
       "7                                                   0   \n",
       "8                                             95060.7   \n",
       "9                                               47051   \n",
       "10         conteo_top_5\n",
       "0.00           9861\n",
       "1.22  ...   \n",
       "\n",
       "                                   consumo_prom_mixto  \\\n",
       "0                                             float64   \n",
       "1                                               62775   \n",
       "2                                               50.64   \n",
       "3                                              130.41   \n",
       "4                                                   0   \n",
       "5                                               33.45   \n",
       "6                                               61.22   \n",
       "7                                                   0   \n",
       "8                                             11702.2   \n",
       "9                                               31911   \n",
       "10         conteo_top_5\n",
       "0.00          17715\n",
       "36.00 ...   \n",
       "\n",
       "                                        consumo_total  \\\n",
       "0                                             float64   \n",
       "1                                               71102   \n",
       "2                                             1695.85   \n",
       "3                                              3555.7   \n",
       "4                                              340.95   \n",
       "5                                              896.18   \n",
       "6                                              1808.9   \n",
       "7                                                   0   \n",
       "8                                              119727   \n",
       "9                                               56015   \n",
       "10        conteo_top_5\n",
       "0.00          2451\n",
       "3.05    ...   \n",
       "\n",
       "                                         consumo_prom  \\\n",
       "0                                             float64   \n",
       "1                                               71102   \n",
       "2                                              111.22   \n",
       "3                                             1069.95   \n",
       "4                                               23.01   \n",
       "5                                               31.69   \n",
       "6                                               45.48   \n",
       "7                                                   0   \n",
       "8                                             89691.8   \n",
       "9                                               62214   \n",
       "10        conteo_top_5\n",
       "0.00          2451\n",
       "1.22    ...   \n",
       "\n",
       "                                  consumo_prom_no_dom  \\\n",
       "0                                             float64   \n",
       "1                                               71102   \n",
       "2                                              126.76   \n",
       "3                                             1095.82   \n",
       "4                                                6.28   \n",
       "5                                               19.28   \n",
       "6                                               54.19   \n",
       "7                                                   0   \n",
       "8                                             89691.8   \n",
       "9                                               37440   \n",
       "10        conteo_top_5\n",
       "0.00          8109\n",
       "1.22    ...   \n",
       "\n",
       "                                 consumo_total_no_dom  \n",
       "0                                             float64  \n",
       "1                                               71102  \n",
       "2                                              436.06  \n",
       "3                                             2126.15  \n",
       "4                                               10.98  \n",
       "5                                               54.06  \n",
       "6                                              230.43  \n",
       "7                                                   0  \n",
       "8                                              119727  \n",
       "9                                               27336  \n",
       "10        conteo_top_5\n",
       "0.00          8109\n",
       "1.22    ...  "
      ]
     },
     "execution_count": 17,
     "metadata": {},
     "output_type": "execute_result"
    }
   ],
   "source": [
    "#pd.set_option('display.max_colwidth', -1)\n",
    "profiling_numerico"
   ]
  },
  {
   "cell_type": "code",
   "execution_count": 18,
   "metadata": {},
   "outputs": [
    {
     "data": {
      "text/plain": [
       "'No hay variables categóricas'"
      ]
     },
     "execution_count": 18,
     "metadata": {},
     "output_type": "execute_result"
    }
   ],
   "source": [
    "profiling_categoricas"
   ]
  },
  {
   "cell_type": "code",
   "execution_count": 19,
   "metadata": {},
   "outputs": [
    {
     "data": {
      "text/html": [
       "<div>\n",
       "<style scoped>\n",
       "    .dataframe tbody tr th:only-of-type {\n",
       "        vertical-align: middle;\n",
       "    }\n",
       "\n",
       "    .dataframe tbody tr th {\n",
       "        vertical-align: top;\n",
       "    }\n",
       "\n",
       "    .dataframe thead th {\n",
       "        text-align: right;\n",
       "    }\n",
       "</style>\n",
       "<table border=\"1\" class=\"dataframe\">\n",
       "  <thead>\n",
       "    <tr style=\"text-align: right;\">\n",
       "      <th></th>\n",
       "      <th>metrica</th>\n",
       "      <th>Geo Point</th>\n",
       "      <th>Geo Shape</th>\n",
       "      <th>nomgeo</th>\n",
       "      <th>alcaldia</th>\n",
       "      <th>colonia</th>\n",
       "      <th>indice_des</th>\n",
       "    </tr>\n",
       "  </thead>\n",
       "  <tbody>\n",
       "    <tr>\n",
       "      <th>0</th>\n",
       "      <td>tipo</td>\n",
       "      <td>object</td>\n",
       "      <td>object</td>\n",
       "      <td>object</td>\n",
       "      <td>object</td>\n",
       "      <td>object</td>\n",
       "      <td>object</td>\n",
       "    </tr>\n",
       "    <tr>\n",
       "      <th>1</th>\n",
       "      <td>numero de observaciones</td>\n",
       "      <td>71102</td>\n",
       "      <td>71102</td>\n",
       "      <td>71102</td>\n",
       "      <td>71102</td>\n",
       "      <td>71102</td>\n",
       "      <td>71102</td>\n",
       "    </tr>\n",
       "    <tr>\n",
       "      <th>2</th>\n",
       "      <td>observaciones unicas</td>\n",
       "      <td>22930</td>\n",
       "      <td>22922</td>\n",
       "      <td>17</td>\n",
       "      <td>16</td>\n",
       "      <td>1340</td>\n",
       "      <td>4</td>\n",
       "    </tr>\n",
       "    <tr>\n",
       "      <th>3</th>\n",
       "      <td>% observaciones unicas</td>\n",
       "      <td>0.322494</td>\n",
       "      <td>0.322382</td>\n",
       "      <td>0.000239093</td>\n",
       "      <td>0.000225029</td>\n",
       "      <td>0.0188462</td>\n",
       "      <td>5.62572e-05</td>\n",
       "    </tr>\n",
       "    <tr>\n",
       "      <th>4</th>\n",
       "      <td>tamano promedio</td>\n",
       "      <td>27.781</td>\n",
       "      <td>3295.96</td>\n",
       "      <td>12.4034</td>\n",
       "      <td>12.2552</td>\n",
       "      <td>16.8656</td>\n",
       "      <td>4.83564</td>\n",
       "    </tr>\n",
       "    <tr>\n",
       "      <th>5</th>\n",
       "      <td>tamano minmo</td>\n",
       "      <td>23</td>\n",
       "      <td>198</td>\n",
       "      <td>6</td>\n",
       "      <td>7</td>\n",
       "      <td>4</td>\n",
       "      <td>4</td>\n",
       "    </tr>\n",
       "    <tr>\n",
       "      <th>6</th>\n",
       "      <td>tamano maximo</td>\n",
       "      <td>28</td>\n",
       "      <td>61218</td>\n",
       "      <td>22</td>\n",
       "      <td>19</td>\n",
       "      <td>43</td>\n",
       "      <td>7</td>\n",
       "    </tr>\n",
       "  </tbody>\n",
       "</table>\n",
       "</div>"
      ],
      "text/plain": [
       "                   metrica Geo Point Geo Shape       nomgeo     alcaldia  \\\n",
       "0                     tipo    object    object       object       object   \n",
       "1  numero de observaciones     71102     71102        71102        71102   \n",
       "2     observaciones unicas     22930     22922           17           16   \n",
       "3   % observaciones unicas  0.322494  0.322382  0.000239093  0.000225029   \n",
       "4          tamano promedio    27.781   3295.96      12.4034      12.2552   \n",
       "5             tamano minmo        23       198            6            7   \n",
       "6            tamano maximo        28     61218           22           19   \n",
       "\n",
       "     colonia   indice_des  \n",
       "0     object       object  \n",
       "1      71102        71102  \n",
       "2       1340            4  \n",
       "3  0.0188462  5.62572e-05  \n",
       "4    16.8656      4.83564  \n",
       "5          4            4  \n",
       "6         43            7  "
      ]
     },
     "execution_count": 19,
     "metadata": {},
     "output_type": "execute_result"
    }
   ],
   "source": [
    "profiling_texto"
   ]
  },
  {
   "cell_type": "markdown",
   "metadata": {},
   "source": [
    "### Genera el profiling de cada variable (Pandas profiling)"
   ]
  },
  {
   "cell_type": "code",
   "execution_count": 20,
   "metadata": {},
   "outputs": [],
   "source": [
    "#profile = ProfileReport(agua, title='Pandas Profiling Report')"
   ]
  },
  {
   "cell_type": "code",
   "execution_count": 21,
   "metadata": {},
   "outputs": [],
   "source": [
    "#profile"
   ]
  },
  {
   "cell_type": "code",
   "execution_count": 22,
   "metadata": {},
   "outputs": [],
   "source": [
    "#profile.to_file(output_file = '../results/pandas_profiling_inicial.html')"
   ]
  },
  {
   "cell_type": "markdown",
   "metadata": {},
   "source": [
    "### ¿Cuántas alcadías tienes? ¿Cuántos nomgeo tienes? ¿Identificas algún error?"
   ]
  },
  {
   "cell_type": "code",
   "execution_count": 23,
   "metadata": {},
   "outputs": [],
   "source": [
    "alcaldias = pd.unique(agua['alcaldia']) \n",
    "alcaldias_n = agua['alcaldia'].nunique()"
   ]
  },
  {
   "cell_type": "code",
   "execution_count": 24,
   "metadata": {},
   "outputs": [
    {
     "name": "stdout",
     "output_type": "stream",
     "text": [
      "['GUSTAVO A. MADERO' 'AZCAPOTZALCO' 'COYOACAN' 'TLALPAN' 'MILPA ALTA'\n",
      " 'ALVARO OBREGON' 'CUAJIMALPA' 'TLAHUAC' 'MAGDALENA CONTRERAS'\n",
      " 'XOCHIMILCO' 'IZTAPALAPA' 'IZTACALCO' 'BENITO JUAREZ' 'MIGUEL HIDALGO'\n",
      " 'CUAUHTEMOC' 'VENUSTIANO CARRANZA']\n",
      "16\n"
     ]
    }
   ],
   "source": [
    "print(alcaldias)\n",
    "print(alcaldias_n)"
   ]
  },
  {
   "cell_type": "code",
   "execution_count": 25,
   "metadata": {},
   "outputs": [],
   "source": [
    "nomgeos = pd.unique(agua['nomgeo']) \n",
    "nomgeos_n = agua['nomgeo'].nunique()"
   ]
  },
  {
   "cell_type": "code",
   "execution_count": 26,
   "metadata": {},
   "outputs": [
    {
     "name": "stdout",
     "output_type": "stream",
     "text": [
      "['Gustavo A. Madero' 'Azcapotzalco' 'Coyoacán' 'Talpan' 'Milpa Alta'\n",
      " 'Álvaro Obregón' 'Cuajimalpa de Morelos' 'Tláhuac'\n",
      " 'La Magdalena Contreras' 'Xochimilco' 'Iztapalapa' 'Iztacalco'\n",
      " 'Benito Juárez' 'Miguel Hidalgo' 'Cuauhtémoc' 'Venustiano Carranza'\n",
      " 'Tlalpan']\n",
      "17\n"
     ]
    }
   ],
   "source": [
    "print(nomgeos)\n",
    "print(nomgeos_n)"
   ]
  },
  {
   "cell_type": "code",
   "execution_count": 27,
   "metadata": {},
   "outputs": [],
   "source": [
    "agua.loc[agua[\"nomgeo\"].str.contains('Talpan', case = False, na = None), \"nomgeo\"] = 'Tlalpan'"
   ]
  },
  {
   "cell_type": "code",
   "execution_count": 28,
   "metadata": {},
   "outputs": [
    {
     "name": "stdout",
     "output_type": "stream",
     "text": [
      "['Gustavo A. Madero' 'Azcapotzalco' 'Coyoacán' 'Tlalpan' 'Milpa Alta'\n",
      " 'Álvaro Obregón' 'Cuajimalpa de Morelos' 'Tláhuac'\n",
      " 'La Magdalena Contreras' 'Xochimilco' 'Iztapalapa' 'Iztacalco'\n",
      " 'Benito Juárez' 'Miguel Hidalgo' 'Cuauhtémoc' 'Venustiano Carranza']\n",
      "16\n"
     ]
    }
   ],
   "source": [
    "nomgeos = pd.unique(agua['nomgeo']) \n",
    "nomgeos_n = agua['nomgeo'].nunique() \n",
    "print(nomgeos)\n",
    "print(nomgeos_n)"
   ]
  },
  {
   "cell_type": "markdown",
   "metadata": {},
   "source": [
    "### ¿Qué conocemos ahora de este set de datos por variable?"
   ]
  },
  {
   "cell_type": "markdown",
   "metadata": {},
   "source": [
    "* El dataframe tiene 17 columnas.\n",
    "* La variable `anio` tiene solamente un valor en toda la base de datos, por lo que no tendría sentido conservarla.\n",
    "* La variable `nomgeo` contenía un error, poniendo como otra categoría la palabra `talpan`, dicho error fue corregido.\n",
    "* `gid`indica el ID de cada observación.\n",
    "* En realidad, deberían ser 8 variables numéricas\n",
    "* Hay 26,318 valores faltantes en toda la base de datos, que corresponden al 2.2% de los datos.\n",
    "* No hay valores duplicados\n",
    "* Hay 5 columnas que tienen NA's --> `consumo_total_mixto, consumo_prom_mixto, consumo_prom_dom, consumo_total_dom y Geo Shape`\n",
    "* En la variable consumo_total_no_dom y consumo_prom_no_dom los faltantes están expresados con ceros. --> **pregunta para cliente para ver si es correcto**\n",
    "* La observación que tiene más valores faltantes es el 54,555, con 5 valores nulos.\n",
    "\n",
    "-------------------------------------\n",
    "##### Profiling numérico:\n",
    "* La variable `consumo_total_mixto` tiene una desviación estándar muy alta (casi el doble de la media), hay una gran cantidad de ceros (incluso, llegan a ser por lo menos el 25% de los datos) --> son 17,715 ceros\n",
    "* El cuartil 75% de la variable `consumo_total_mixto`está en un valor de 233, mientras que el máximo está en 23,404 --> podría indicar valores atípicos.\n",
    "* La variable `consumo_prom_dom` tiene 9,861 ceros.\n",
    "* El cuartil 75% de la variable `consumo_prom_dom`está en un valor de 36.25, mientras que el máximo está en 7,796 --> podría indicar valores atípicos.\n",
    "* El cuartil 75% de la variable `consumo_total_dom`está en un valor de 1,261, mientras que el máximo está en 95,060 --> podría indicar valores atípicos.\n",
    "* `consumo_total_mixto`y `consumo_prom_mixto` tienen la misma cantidad de ceros\n",
    "* El cuartil 75% de la variable `consumo_prom_mixto`está en un valor de 61, mientras que el máximo está en 11,702 --> podría indicar valores atípicos.\n",
    "* El cuartil 75% de la variable `consumo_total`está en un valor de 1,808, mientras que el máximo está en 119,727 --> podría indicar valores atípicos.\n",
    "* La variable `consumo_prom`tiene una desviación estándar de 1,069 y una media de 111. Adicionalmente, el cuartil 75% está en un valor de 45, mientras el máximo está en 89,691.\n",
    "* `consumo_prom_no_dom`y `consumo_total_no_dom`tienen ambas una media no tan alta, pero una desviación estándar muy grande y un máximo muy elevado.\n",
    "\n",
    "-------------------------------------\n",
    "##### Profiling categórico:\n",
    "* `nomgeo`y `alcaldia`son variables redundantes, no es necesario mantener ambas.\n",
    "* Iztapalapa, Gustavo A Madero y Cuauhtémoc son las alcaldías con más registros. --> verificar con cliente si es correcto.\n",
    "* Hay muchísimas colonias\n",
    "* Solo se tiene información de los primeros 3 bimestres del año\n",
    "* `gid`indica el ID de cada observación.\n",
    "* En cuanto al índice de desarrollo (`indice_des`), las tres clasificaciones con mayor cantidad de registros son:\n",
    " - bajo --> incluye el 41% de las observaciones\n",
    " - popular\n",
    " - alto\n",
    " \n",
    " Entre estas últimas tres, forman poco más del 80% de los registros, por lo que la categoría \"medio\" no está tan lejos de ellas.\n",
    "\n",
    "\n",
    "-------------------------------------\n",
    "##### Profiling fecha:\n",
    "\n",
    "No hay variables de tipo fecha.\n",
    "\n",
    "\n",
    "-------------------------------------\n",
    "##### Profiling texto:\n",
    "\n",
    "No hay variables que debieran estar como de tipo texto, sino más bien categóricas.\n",
    "\n",
    "-------------------------------------\n",
    "\n",
    "##### Comentarios para FE \n",
    "* Geo Point debe ser separada y dividida en `latitud` y `longitud`.\n",
    "* Geo Shape indica información para gráficas geoespaciales.\n",
    "* `nomgeo, alcaldía, colonia, bimestre, gid e indice_des`  deberían estar en formato categórico\n",
    "* anio debería ser eliminada por tener un solo valor\n",
    "* Solo se tiene información de los primeros 3 bimestres del año\n"
   ]
  },
  {
   "cell_type": "markdown",
   "metadata": {},
   "source": [
    "### Transformar las variables a formato estándar: minúsculas, sin espacios en blanco, sin signos de puntuación."
   ]
  },
  {
   "cell_type": "code",
   "execution_count": 29,
   "metadata": {},
   "outputs": [
    {
     "data": {
      "text/html": [
       "<div>\n",
       "<style scoped>\n",
       "    .dataframe tbody tr th:only-of-type {\n",
       "        vertical-align: middle;\n",
       "    }\n",
       "\n",
       "    .dataframe tbody tr th {\n",
       "        vertical-align: top;\n",
       "    }\n",
       "\n",
       "    .dataframe thead th {\n",
       "        text-align: right;\n",
       "    }\n",
       "</style>\n",
       "<table border=\"1\" class=\"dataframe\">\n",
       "  <thead>\n",
       "    <tr style=\"text-align: right;\">\n",
       "      <th></th>\n",
       "      <th>geo_point</th>\n",
       "      <th>geo_shape</th>\n",
       "      <th>consumo_total_mixto</th>\n",
       "      <th>anio</th>\n",
       "      <th>nomgeo</th>\n",
       "      <th>consumo_prom_dom</th>\n",
       "      <th>consumo_total_dom</th>\n",
       "      <th>alcaldia</th>\n",
       "      <th>colonia</th>\n",
       "      <th>consumo_prom_mixto</th>\n",
       "      <th>consumo_total</th>\n",
       "      <th>consumo_prom</th>\n",
       "      <th>consumo_prom_no_dom</th>\n",
       "      <th>bimestre</th>\n",
       "      <th>consumo_total_no_dom</th>\n",
       "      <th>gid</th>\n",
       "      <th>indice_des</th>\n",
       "    </tr>\n",
       "  </thead>\n",
       "  <tbody>\n",
       "    <tr>\n",
       "      <th>0</th>\n",
       "      <td>19.4552601937,-99.1126617526</td>\n",
       "      <td>{\"type\": \"multipolygon\", \"coordinates\": [[[[-9...</td>\n",
       "      <td>159.72</td>\n",
       "      <td>2019</td>\n",
       "      <td>gustavo a. madero</td>\n",
       "      <td>42.566364</td>\n",
       "      <td>468.23</td>\n",
       "      <td>gustavo a. madero</td>\n",
       "      <td>7 de noviembre</td>\n",
       "      <td>53.24</td>\n",
       "      <td>631.00</td>\n",
       "      <td>42.066667</td>\n",
       "      <td>3.05</td>\n",
       "      <td>3</td>\n",
       "      <td>3.05</td>\n",
       "      <td>57250</td>\n",
       "      <td>alto</td>\n",
       "    </tr>\n",
       "    <tr>\n",
       "      <th>1</th>\n",
       "      <td>19.4552601937,-99.1126617526</td>\n",
       "      <td>{\"type\": \"multipolygon\", \"coordinates\": [[[[-9...</td>\n",
       "      <td>0.00</td>\n",
       "      <td>2019</td>\n",
       "      <td>gustavo a. madero</td>\n",
       "      <td>35.936667</td>\n",
       "      <td>107.81</td>\n",
       "      <td>gustavo a. madero</td>\n",
       "      <td>7 de noviembre</td>\n",
       "      <td>0.00</td>\n",
       "      <td>115.13</td>\n",
       "      <td>28.782500</td>\n",
       "      <td>7.32</td>\n",
       "      <td>3</td>\n",
       "      <td>7.32</td>\n",
       "      <td>57253</td>\n",
       "      <td>medio</td>\n",
       "    </tr>\n",
       "    <tr>\n",
       "      <th>2</th>\n",
       "      <td>19.4557195871,-99.1135822797</td>\n",
       "      <td>{\"type\": \"multipolygon\", \"coordinates\": [[[[-9...</td>\n",
       "      <td>0.00</td>\n",
       "      <td>2019</td>\n",
       "      <td>gustavo a. madero</td>\n",
       "      <td>24.586000</td>\n",
       "      <td>122.93</td>\n",
       "      <td>gustavo a. madero</td>\n",
       "      <td>7 de noviembre</td>\n",
       "      <td>0.00</td>\n",
       "      <td>197.96</td>\n",
       "      <td>32.993333</td>\n",
       "      <td>75.03</td>\n",
       "      <td>3</td>\n",
       "      <td>75.03</td>\n",
       "      <td>57255</td>\n",
       "      <td>popular</td>\n",
       "    </tr>\n",
       "    <tr>\n",
       "      <th>3</th>\n",
       "      <td>19.4596467168,-99.1044693641</td>\n",
       "      <td>{\"type\": \"multipolygon\", \"coordinates\": [[[[-9...</td>\n",
       "      <td>0.00</td>\n",
       "      <td>2019</td>\n",
       "      <td>gustavo a. madero</td>\n",
       "      <td>0.000000</td>\n",
       "      <td>0.00</td>\n",
       "      <td>gustavo a. madero</td>\n",
       "      <td>nueva tenochtitlan</td>\n",
       "      <td>0.00</td>\n",
       "      <td>253.53</td>\n",
       "      <td>84.510000</td>\n",
       "      <td>84.51</td>\n",
       "      <td>3</td>\n",
       "      <td>253.53</td>\n",
       "      <td>57267</td>\n",
       "      <td>bajo</td>\n",
       "    </tr>\n",
       "    <tr>\n",
       "      <th>4</th>\n",
       "      <td>19.4741606185,-99.1467497317</td>\n",
       "      <td>{\"type\": \"multipolygon\", \"coordinates\": [[[[-9...</td>\n",
       "      <td>56.72</td>\n",
       "      <td>2019</td>\n",
       "      <td>azcapotzalco</td>\n",
       "      <td>67.436250</td>\n",
       "      <td>539.49</td>\n",
       "      <td>azcapotzalco</td>\n",
       "      <td>prohogar</td>\n",
       "      <td>56.72</td>\n",
       "      <td>839.35</td>\n",
       "      <td>76.304545</td>\n",
       "      <td>121.57</td>\n",
       "      <td>3</td>\n",
       "      <td>243.14</td>\n",
       "      <td>57330</td>\n",
       "      <td>bajo</td>\n",
       "    </tr>\n",
       "  </tbody>\n",
       "</table>\n",
       "</div>"
      ],
      "text/plain": [
       "                      geo_point  \\\n",
       "0  19.4552601937,-99.1126617526   \n",
       "1  19.4552601937,-99.1126617526   \n",
       "2  19.4557195871,-99.1135822797   \n",
       "3  19.4596467168,-99.1044693641   \n",
       "4  19.4741606185,-99.1467497317   \n",
       "\n",
       "                                           geo_shape  consumo_total_mixto  \\\n",
       "0  {\"type\": \"multipolygon\", \"coordinates\": [[[[-9...               159.72   \n",
       "1  {\"type\": \"multipolygon\", \"coordinates\": [[[[-9...                 0.00   \n",
       "2  {\"type\": \"multipolygon\", \"coordinates\": [[[[-9...                 0.00   \n",
       "3  {\"type\": \"multipolygon\", \"coordinates\": [[[[-9...                 0.00   \n",
       "4  {\"type\": \"multipolygon\", \"coordinates\": [[[[-9...                56.72   \n",
       "\n",
       "   anio             nomgeo  consumo_prom_dom  consumo_total_dom  \\\n",
       "0  2019  gustavo a. madero         42.566364             468.23   \n",
       "1  2019  gustavo a. madero         35.936667             107.81   \n",
       "2  2019  gustavo a. madero         24.586000             122.93   \n",
       "3  2019  gustavo a. madero          0.000000               0.00   \n",
       "4  2019       azcapotzalco         67.436250             539.49   \n",
       "\n",
       "            alcaldia             colonia  consumo_prom_mixto  consumo_total  \\\n",
       "0  gustavo a. madero      7 de noviembre               53.24         631.00   \n",
       "1  gustavo a. madero      7 de noviembre                0.00         115.13   \n",
       "2  gustavo a. madero      7 de noviembre                0.00         197.96   \n",
       "3  gustavo a. madero  nueva tenochtitlan                0.00         253.53   \n",
       "4       azcapotzalco            prohogar               56.72         839.35   \n",
       "\n",
       "   consumo_prom  consumo_prom_no_dom  bimestre  consumo_total_no_dom    gid  \\\n",
       "0     42.066667                 3.05         3                  3.05  57250   \n",
       "1     28.782500                 7.32         3                  7.32  57253   \n",
       "2     32.993333                75.03         3                 75.03  57255   \n",
       "3     84.510000                84.51         3                253.53  57267   \n",
       "4     76.304545               121.57         3                243.14  57330   \n",
       "\n",
       "  indice_des  \n",
       "0       alto  \n",
       "1      medio  \n",
       "2    popular  \n",
       "3       bajo  \n",
       "4       bajo  "
      ]
     },
     "execution_count": 29,
     "metadata": {},
     "output_type": "execute_result"
    }
   ],
   "source": [
    "agua = eda_eq.EstandarizaFormato(agua)\n",
    "agua.head()"
   ]
  },
  {
   "cell_type": "code",
   "execution_count": 30,
   "metadata": {},
   "outputs": [],
   "source": [
    "agua = agua.astype({\"bimestre\":'category', \"indice_des\":'category', \"nomgeo\":'category', \"alcaldia\":'category',\"colonia\":'category', \"gid\":'category'}) "
   ]
  },
  {
   "cell_type": "code",
   "execution_count": 31,
   "metadata": {},
   "outputs": [
    {
     "data": {
      "text/html": [
       "<div>\n",
       "<style scoped>\n",
       "    .dataframe tbody tr th:only-of-type {\n",
       "        vertical-align: middle;\n",
       "    }\n",
       "\n",
       "    .dataframe tbody tr th {\n",
       "        vertical-align: top;\n",
       "    }\n",
       "\n",
       "    .dataframe thead th {\n",
       "        text-align: right;\n",
       "    }\n",
       "</style>\n",
       "<table border=\"1\" class=\"dataframe\">\n",
       "  <thead>\n",
       "    <tr style=\"text-align: right;\">\n",
       "      <th></th>\n",
       "      <th>geo_point</th>\n",
       "      <th>geo_shape</th>\n",
       "      <th>consumo_total_mixto</th>\n",
       "      <th>anio</th>\n",
       "      <th>nomgeo</th>\n",
       "      <th>consumo_prom_dom</th>\n",
       "      <th>consumo_total_dom</th>\n",
       "      <th>alcaldia</th>\n",
       "      <th>colonia</th>\n",
       "      <th>consumo_prom_mixto</th>\n",
       "      <th>consumo_total</th>\n",
       "      <th>consumo_prom</th>\n",
       "      <th>consumo_prom_no_dom</th>\n",
       "      <th>bimestre</th>\n",
       "      <th>consumo_total_no_dom</th>\n",
       "      <th>gid</th>\n",
       "      <th>indice_des</th>\n",
       "    </tr>\n",
       "  </thead>\n",
       "  <tbody>\n",
       "    <tr>\n",
       "      <th>0</th>\n",
       "      <td>19.4552601937,-99.1126617526</td>\n",
       "      <td>{\"type\": \"multipolygon\", \"coordinates\": [[[[-9...</td>\n",
       "      <td>159.72</td>\n",
       "      <td>2019</td>\n",
       "      <td>gustavo a. madero</td>\n",
       "      <td>42.566364</td>\n",
       "      <td>468.23</td>\n",
       "      <td>gustavo a. madero</td>\n",
       "      <td>7 de noviembre</td>\n",
       "      <td>53.24</td>\n",
       "      <td>631.00</td>\n",
       "      <td>42.066667</td>\n",
       "      <td>3.05</td>\n",
       "      <td>3</td>\n",
       "      <td>3.05</td>\n",
       "      <td>57250</td>\n",
       "      <td>alto</td>\n",
       "    </tr>\n",
       "    <tr>\n",
       "      <th>1</th>\n",
       "      <td>19.4552601937,-99.1126617526</td>\n",
       "      <td>{\"type\": \"multipolygon\", \"coordinates\": [[[[-9...</td>\n",
       "      <td>0.00</td>\n",
       "      <td>2019</td>\n",
       "      <td>gustavo a. madero</td>\n",
       "      <td>35.936667</td>\n",
       "      <td>107.81</td>\n",
       "      <td>gustavo a. madero</td>\n",
       "      <td>7 de noviembre</td>\n",
       "      <td>0.00</td>\n",
       "      <td>115.13</td>\n",
       "      <td>28.782500</td>\n",
       "      <td>7.32</td>\n",
       "      <td>3</td>\n",
       "      <td>7.32</td>\n",
       "      <td>57253</td>\n",
       "      <td>medio</td>\n",
       "    </tr>\n",
       "    <tr>\n",
       "      <th>2</th>\n",
       "      <td>19.4557195871,-99.1135822797</td>\n",
       "      <td>{\"type\": \"multipolygon\", \"coordinates\": [[[[-9...</td>\n",
       "      <td>0.00</td>\n",
       "      <td>2019</td>\n",
       "      <td>gustavo a. madero</td>\n",
       "      <td>24.586000</td>\n",
       "      <td>122.93</td>\n",
       "      <td>gustavo a. madero</td>\n",
       "      <td>7 de noviembre</td>\n",
       "      <td>0.00</td>\n",
       "      <td>197.96</td>\n",
       "      <td>32.993333</td>\n",
       "      <td>75.03</td>\n",
       "      <td>3</td>\n",
       "      <td>75.03</td>\n",
       "      <td>57255</td>\n",
       "      <td>popular</td>\n",
       "    </tr>\n",
       "    <tr>\n",
       "      <th>3</th>\n",
       "      <td>19.4596467168,-99.1044693641</td>\n",
       "      <td>{\"type\": \"multipolygon\", \"coordinates\": [[[[-9...</td>\n",
       "      <td>0.00</td>\n",
       "      <td>2019</td>\n",
       "      <td>gustavo a. madero</td>\n",
       "      <td>0.000000</td>\n",
       "      <td>0.00</td>\n",
       "      <td>gustavo a. madero</td>\n",
       "      <td>nueva tenochtitlan</td>\n",
       "      <td>0.00</td>\n",
       "      <td>253.53</td>\n",
       "      <td>84.510000</td>\n",
       "      <td>84.51</td>\n",
       "      <td>3</td>\n",
       "      <td>253.53</td>\n",
       "      <td>57267</td>\n",
       "      <td>bajo</td>\n",
       "    </tr>\n",
       "    <tr>\n",
       "      <th>4</th>\n",
       "      <td>19.4741606185,-99.1467497317</td>\n",
       "      <td>{\"type\": \"multipolygon\", \"coordinates\": [[[[-9...</td>\n",
       "      <td>56.72</td>\n",
       "      <td>2019</td>\n",
       "      <td>azcapotzalco</td>\n",
       "      <td>67.436250</td>\n",
       "      <td>539.49</td>\n",
       "      <td>azcapotzalco</td>\n",
       "      <td>prohogar</td>\n",
       "      <td>56.72</td>\n",
       "      <td>839.35</td>\n",
       "      <td>76.304545</td>\n",
       "      <td>121.57</td>\n",
       "      <td>3</td>\n",
       "      <td>243.14</td>\n",
       "      <td>57330</td>\n",
       "      <td>bajo</td>\n",
       "    </tr>\n",
       "  </tbody>\n",
       "</table>\n",
       "</div>"
      ],
      "text/plain": [
       "                      geo_point  \\\n",
       "0  19.4552601937,-99.1126617526   \n",
       "1  19.4552601937,-99.1126617526   \n",
       "2  19.4557195871,-99.1135822797   \n",
       "3  19.4596467168,-99.1044693641   \n",
       "4  19.4741606185,-99.1467497317   \n",
       "\n",
       "                                           geo_shape  consumo_total_mixto  \\\n",
       "0  {\"type\": \"multipolygon\", \"coordinates\": [[[[-9...               159.72   \n",
       "1  {\"type\": \"multipolygon\", \"coordinates\": [[[[-9...                 0.00   \n",
       "2  {\"type\": \"multipolygon\", \"coordinates\": [[[[-9...                 0.00   \n",
       "3  {\"type\": \"multipolygon\", \"coordinates\": [[[[-9...                 0.00   \n",
       "4  {\"type\": \"multipolygon\", \"coordinates\": [[[[-9...                56.72   \n",
       "\n",
       "   anio             nomgeo  consumo_prom_dom  consumo_total_dom  \\\n",
       "0  2019  gustavo a. madero         42.566364             468.23   \n",
       "1  2019  gustavo a. madero         35.936667             107.81   \n",
       "2  2019  gustavo a. madero         24.586000             122.93   \n",
       "3  2019  gustavo a. madero          0.000000               0.00   \n",
       "4  2019       azcapotzalco         67.436250             539.49   \n",
       "\n",
       "            alcaldia             colonia  consumo_prom_mixto  consumo_total  \\\n",
       "0  gustavo a. madero      7 de noviembre               53.24         631.00   \n",
       "1  gustavo a. madero      7 de noviembre                0.00         115.13   \n",
       "2  gustavo a. madero      7 de noviembre                0.00         197.96   \n",
       "3  gustavo a. madero  nueva tenochtitlan                0.00         253.53   \n",
       "4       azcapotzalco            prohogar               56.72         839.35   \n",
       "\n",
       "   consumo_prom  consumo_prom_no_dom bimestre  consumo_total_no_dom    gid  \\\n",
       "0     42.066667                 3.05        3                  3.05  57250   \n",
       "1     28.782500                 7.32        3                  7.32  57253   \n",
       "2     32.993333                75.03        3                 75.03  57255   \n",
       "3     84.510000                84.51        3                253.53  57267   \n",
       "4     76.304545               121.57        3                243.14  57330   \n",
       "\n",
       "  indice_des  \n",
       "0       alto  \n",
       "1      medio  \n",
       "2    popular  \n",
       "3       bajo  \n",
       "4       bajo  "
      ]
     },
     "execution_count": 31,
     "metadata": {},
     "output_type": "execute_result"
    }
   ],
   "source": [
    "agua.head()"
   ]
  },
  {
   "cell_type": "markdown",
   "metadata": {},
   "source": [
    "### Agregar la variable latitud y longitud."
   ]
  },
  {
   "cell_type": "code",
   "execution_count": 32,
   "metadata": {},
   "outputs": [],
   "source": [
    "new = agua['geo_point'].str.split(\",\", n = 1, expand = True) \n",
    "agua[\"latitud\"]= new[0] \n",
    "agua[\"longitud\"]= new[1] "
   ]
  },
  {
   "cell_type": "markdown",
   "metadata": {},
   "source": [
    "### Pasar la variable latitud y longitud a numérica -si no la tomó como numérica-."
   ]
  },
  {
   "cell_type": "code",
   "execution_count": 33,
   "metadata": {},
   "outputs": [
    {
     "data": {
      "text/plain": [
       "geo_point                 object\n",
       "geo_shape                 object\n",
       "consumo_total_mixto      float64\n",
       "anio                       int64\n",
       "nomgeo                  category\n",
       "consumo_prom_dom         float64\n",
       "consumo_total_dom        float64\n",
       "alcaldia                category\n",
       "colonia                 category\n",
       "consumo_prom_mixto       float64\n",
       "consumo_total            float64\n",
       "consumo_prom             float64\n",
       "consumo_prom_no_dom      float64\n",
       "bimestre                category\n",
       "consumo_total_no_dom     float64\n",
       "gid                     category\n",
       "indice_des              category\n",
       "latitud                   object\n",
       "longitud                  object\n",
       "dtype: object"
      ]
     },
     "execution_count": 33,
     "metadata": {},
     "output_type": "execute_result"
    }
   ],
   "source": [
    "# Revisamos si está como tipo numérico\n",
    "agua.dtypes"
   ]
  },
  {
   "cell_type": "code",
   "execution_count": 34,
   "metadata": {},
   "outputs": [
    {
     "data": {
      "text/plain": [
       "geo_point                 object\n",
       "geo_shape                 object\n",
       "consumo_total_mixto      float64\n",
       "anio                       int64\n",
       "nomgeo                  category\n",
       "consumo_prom_dom         float64\n",
       "consumo_total_dom        float64\n",
       "alcaldia                category\n",
       "colonia                 category\n",
       "consumo_prom_mixto       float64\n",
       "consumo_total            float64\n",
       "consumo_prom             float64\n",
       "consumo_prom_no_dom      float64\n",
       "bimestre                category\n",
       "consumo_total_no_dom     float64\n",
       "gid                     category\n",
       "indice_des              category\n",
       "latitud                  float64\n",
       "longitud                 float64\n",
       "dtype: object"
      ]
     },
     "execution_count": 34,
     "metadata": {},
     "output_type": "execute_result"
    }
   ],
   "source": [
    "agua = agua.astype({\"latitud\":'float64', \"longitud\":'float64'}) \n",
    "agua.dtypes"
   ]
  },
  {
   "cell_type": "markdown",
   "metadata": {},
   "source": [
    "### Eliminar la columna geo_point -una vez que creaste la variable latitud y longitud."
   ]
  },
  {
   "cell_type": "code",
   "execution_count": 35,
   "metadata": {},
   "outputs": [
    {
     "data": {
      "text/html": [
       "<div>\n",
       "<style scoped>\n",
       "    .dataframe tbody tr th:only-of-type {\n",
       "        vertical-align: middle;\n",
       "    }\n",
       "\n",
       "    .dataframe tbody tr th {\n",
       "        vertical-align: top;\n",
       "    }\n",
       "\n",
       "    .dataframe thead th {\n",
       "        text-align: right;\n",
       "    }\n",
       "</style>\n",
       "<table border=\"1\" class=\"dataframe\">\n",
       "  <thead>\n",
       "    <tr style=\"text-align: right;\">\n",
       "      <th></th>\n",
       "      <th>geo_shape</th>\n",
       "      <th>consumo_total_mixto</th>\n",
       "      <th>anio</th>\n",
       "      <th>nomgeo</th>\n",
       "      <th>consumo_prom_dom</th>\n",
       "      <th>consumo_total_dom</th>\n",
       "      <th>alcaldia</th>\n",
       "      <th>colonia</th>\n",
       "      <th>consumo_prom_mixto</th>\n",
       "      <th>consumo_total</th>\n",
       "      <th>consumo_prom</th>\n",
       "      <th>consumo_prom_no_dom</th>\n",
       "      <th>bimestre</th>\n",
       "      <th>consumo_total_no_dom</th>\n",
       "      <th>gid</th>\n",
       "      <th>indice_des</th>\n",
       "      <th>latitud</th>\n",
       "      <th>longitud</th>\n",
       "    </tr>\n",
       "  </thead>\n",
       "  <tbody>\n",
       "    <tr>\n",
       "      <th>0</th>\n",
       "      <td>{\"type\": \"multipolygon\", \"coordinates\": [[[[-9...</td>\n",
       "      <td>159.72</td>\n",
       "      <td>2019</td>\n",
       "      <td>gustavo a. madero</td>\n",
       "      <td>42.566364</td>\n",
       "      <td>468.23</td>\n",
       "      <td>gustavo a. madero</td>\n",
       "      <td>7 de noviembre</td>\n",
       "      <td>53.24</td>\n",
       "      <td>631.00</td>\n",
       "      <td>42.066667</td>\n",
       "      <td>3.05</td>\n",
       "      <td>3</td>\n",
       "      <td>3.05</td>\n",
       "      <td>57250</td>\n",
       "      <td>alto</td>\n",
       "      <td>19.455260</td>\n",
       "      <td>-99.112662</td>\n",
       "    </tr>\n",
       "    <tr>\n",
       "      <th>1</th>\n",
       "      <td>{\"type\": \"multipolygon\", \"coordinates\": [[[[-9...</td>\n",
       "      <td>0.00</td>\n",
       "      <td>2019</td>\n",
       "      <td>gustavo a. madero</td>\n",
       "      <td>35.936667</td>\n",
       "      <td>107.81</td>\n",
       "      <td>gustavo a. madero</td>\n",
       "      <td>7 de noviembre</td>\n",
       "      <td>0.00</td>\n",
       "      <td>115.13</td>\n",
       "      <td>28.782500</td>\n",
       "      <td>7.32</td>\n",
       "      <td>3</td>\n",
       "      <td>7.32</td>\n",
       "      <td>57253</td>\n",
       "      <td>medio</td>\n",
       "      <td>19.455260</td>\n",
       "      <td>-99.112662</td>\n",
       "    </tr>\n",
       "    <tr>\n",
       "      <th>2</th>\n",
       "      <td>{\"type\": \"multipolygon\", \"coordinates\": [[[[-9...</td>\n",
       "      <td>0.00</td>\n",
       "      <td>2019</td>\n",
       "      <td>gustavo a. madero</td>\n",
       "      <td>24.586000</td>\n",
       "      <td>122.93</td>\n",
       "      <td>gustavo a. madero</td>\n",
       "      <td>7 de noviembre</td>\n",
       "      <td>0.00</td>\n",
       "      <td>197.96</td>\n",
       "      <td>32.993333</td>\n",
       "      <td>75.03</td>\n",
       "      <td>3</td>\n",
       "      <td>75.03</td>\n",
       "      <td>57255</td>\n",
       "      <td>popular</td>\n",
       "      <td>19.455720</td>\n",
       "      <td>-99.113582</td>\n",
       "    </tr>\n",
       "    <tr>\n",
       "      <th>3</th>\n",
       "      <td>{\"type\": \"multipolygon\", \"coordinates\": [[[[-9...</td>\n",
       "      <td>0.00</td>\n",
       "      <td>2019</td>\n",
       "      <td>gustavo a. madero</td>\n",
       "      <td>0.000000</td>\n",
       "      <td>0.00</td>\n",
       "      <td>gustavo a. madero</td>\n",
       "      <td>nueva tenochtitlan</td>\n",
       "      <td>0.00</td>\n",
       "      <td>253.53</td>\n",
       "      <td>84.510000</td>\n",
       "      <td>84.51</td>\n",
       "      <td>3</td>\n",
       "      <td>253.53</td>\n",
       "      <td>57267</td>\n",
       "      <td>bajo</td>\n",
       "      <td>19.459647</td>\n",
       "      <td>-99.104469</td>\n",
       "    </tr>\n",
       "    <tr>\n",
       "      <th>4</th>\n",
       "      <td>{\"type\": \"multipolygon\", \"coordinates\": [[[[-9...</td>\n",
       "      <td>56.72</td>\n",
       "      <td>2019</td>\n",
       "      <td>azcapotzalco</td>\n",
       "      <td>67.436250</td>\n",
       "      <td>539.49</td>\n",
       "      <td>azcapotzalco</td>\n",
       "      <td>prohogar</td>\n",
       "      <td>56.72</td>\n",
       "      <td>839.35</td>\n",
       "      <td>76.304545</td>\n",
       "      <td>121.57</td>\n",
       "      <td>3</td>\n",
       "      <td>243.14</td>\n",
       "      <td>57330</td>\n",
       "      <td>bajo</td>\n",
       "      <td>19.474161</td>\n",
       "      <td>-99.146750</td>\n",
       "    </tr>\n",
       "  </tbody>\n",
       "</table>\n",
       "</div>"
      ],
      "text/plain": [
       "                                           geo_shape  consumo_total_mixto  \\\n",
       "0  {\"type\": \"multipolygon\", \"coordinates\": [[[[-9...               159.72   \n",
       "1  {\"type\": \"multipolygon\", \"coordinates\": [[[[-9...                 0.00   \n",
       "2  {\"type\": \"multipolygon\", \"coordinates\": [[[[-9...                 0.00   \n",
       "3  {\"type\": \"multipolygon\", \"coordinates\": [[[[-9...                 0.00   \n",
       "4  {\"type\": \"multipolygon\", \"coordinates\": [[[[-9...                56.72   \n",
       "\n",
       "   anio             nomgeo  consumo_prom_dom  consumo_total_dom  \\\n",
       "0  2019  gustavo a. madero         42.566364             468.23   \n",
       "1  2019  gustavo a. madero         35.936667             107.81   \n",
       "2  2019  gustavo a. madero         24.586000             122.93   \n",
       "3  2019  gustavo a. madero          0.000000               0.00   \n",
       "4  2019       azcapotzalco         67.436250             539.49   \n",
       "\n",
       "            alcaldia             colonia  consumo_prom_mixto  consumo_total  \\\n",
       "0  gustavo a. madero      7 de noviembre               53.24         631.00   \n",
       "1  gustavo a. madero      7 de noviembre                0.00         115.13   \n",
       "2  gustavo a. madero      7 de noviembre                0.00         197.96   \n",
       "3  gustavo a. madero  nueva tenochtitlan                0.00         253.53   \n",
       "4       azcapotzalco            prohogar               56.72         839.35   \n",
       "\n",
       "   consumo_prom  consumo_prom_no_dom bimestre  consumo_total_no_dom    gid  \\\n",
       "0     42.066667                 3.05        3                  3.05  57250   \n",
       "1     28.782500                 7.32        3                  7.32  57253   \n",
       "2     32.993333                75.03        3                 75.03  57255   \n",
       "3     84.510000                84.51        3                253.53  57267   \n",
       "4     76.304545               121.57        3                243.14  57330   \n",
       "\n",
       "  indice_des    latitud   longitud  \n",
       "0       alto  19.455260 -99.112662  \n",
       "1      medio  19.455260 -99.112662  \n",
       "2    popular  19.455720 -99.113582  \n",
       "3       bajo  19.459647 -99.104469  \n",
       "4       bajo  19.474161 -99.146750  "
      ]
     },
     "execution_count": 35,
     "metadata": {},
     "output_type": "execute_result"
    }
   ],
   "source": [
    "agua.drop(columns =[\"geo_point\"], inplace = True) \n",
    "agua.head()"
   ]
  },
  {
   "cell_type": "markdown",
   "metadata": {},
   "source": [
    "### Eliminar la columna geo_shape."
   ]
  },
  {
   "cell_type": "code",
   "execution_count": 36,
   "metadata": {},
   "outputs": [
    {
     "data": {
      "text/html": [
       "<div>\n",
       "<style scoped>\n",
       "    .dataframe tbody tr th:only-of-type {\n",
       "        vertical-align: middle;\n",
       "    }\n",
       "\n",
       "    .dataframe tbody tr th {\n",
       "        vertical-align: top;\n",
       "    }\n",
       "\n",
       "    .dataframe thead th {\n",
       "        text-align: right;\n",
       "    }\n",
       "</style>\n",
       "<table border=\"1\" class=\"dataframe\">\n",
       "  <thead>\n",
       "    <tr style=\"text-align: right;\">\n",
       "      <th></th>\n",
       "      <th>consumo_total_mixto</th>\n",
       "      <th>anio</th>\n",
       "      <th>nomgeo</th>\n",
       "      <th>consumo_prom_dom</th>\n",
       "      <th>consumo_total_dom</th>\n",
       "      <th>alcaldia</th>\n",
       "      <th>colonia</th>\n",
       "      <th>consumo_prom_mixto</th>\n",
       "      <th>consumo_total</th>\n",
       "      <th>consumo_prom</th>\n",
       "      <th>consumo_prom_no_dom</th>\n",
       "      <th>bimestre</th>\n",
       "      <th>consumo_total_no_dom</th>\n",
       "      <th>gid</th>\n",
       "      <th>indice_des</th>\n",
       "      <th>latitud</th>\n",
       "      <th>longitud</th>\n",
       "    </tr>\n",
       "  </thead>\n",
       "  <tbody>\n",
       "    <tr>\n",
       "      <th>0</th>\n",
       "      <td>159.72</td>\n",
       "      <td>2019</td>\n",
       "      <td>gustavo a. madero</td>\n",
       "      <td>42.566364</td>\n",
       "      <td>468.23</td>\n",
       "      <td>gustavo a. madero</td>\n",
       "      <td>7 de noviembre</td>\n",
       "      <td>53.24</td>\n",
       "      <td>631.00</td>\n",
       "      <td>42.066667</td>\n",
       "      <td>3.05</td>\n",
       "      <td>3</td>\n",
       "      <td>3.05</td>\n",
       "      <td>57250</td>\n",
       "      <td>alto</td>\n",
       "      <td>19.455260</td>\n",
       "      <td>-99.112662</td>\n",
       "    </tr>\n",
       "    <tr>\n",
       "      <th>1</th>\n",
       "      <td>0.00</td>\n",
       "      <td>2019</td>\n",
       "      <td>gustavo a. madero</td>\n",
       "      <td>35.936667</td>\n",
       "      <td>107.81</td>\n",
       "      <td>gustavo a. madero</td>\n",
       "      <td>7 de noviembre</td>\n",
       "      <td>0.00</td>\n",
       "      <td>115.13</td>\n",
       "      <td>28.782500</td>\n",
       "      <td>7.32</td>\n",
       "      <td>3</td>\n",
       "      <td>7.32</td>\n",
       "      <td>57253</td>\n",
       "      <td>medio</td>\n",
       "      <td>19.455260</td>\n",
       "      <td>-99.112662</td>\n",
       "    </tr>\n",
       "    <tr>\n",
       "      <th>2</th>\n",
       "      <td>0.00</td>\n",
       "      <td>2019</td>\n",
       "      <td>gustavo a. madero</td>\n",
       "      <td>24.586000</td>\n",
       "      <td>122.93</td>\n",
       "      <td>gustavo a. madero</td>\n",
       "      <td>7 de noviembre</td>\n",
       "      <td>0.00</td>\n",
       "      <td>197.96</td>\n",
       "      <td>32.993333</td>\n",
       "      <td>75.03</td>\n",
       "      <td>3</td>\n",
       "      <td>75.03</td>\n",
       "      <td>57255</td>\n",
       "      <td>popular</td>\n",
       "      <td>19.455720</td>\n",
       "      <td>-99.113582</td>\n",
       "    </tr>\n",
       "    <tr>\n",
       "      <th>3</th>\n",
       "      <td>0.00</td>\n",
       "      <td>2019</td>\n",
       "      <td>gustavo a. madero</td>\n",
       "      <td>0.000000</td>\n",
       "      <td>0.00</td>\n",
       "      <td>gustavo a. madero</td>\n",
       "      <td>nueva tenochtitlan</td>\n",
       "      <td>0.00</td>\n",
       "      <td>253.53</td>\n",
       "      <td>84.510000</td>\n",
       "      <td>84.51</td>\n",
       "      <td>3</td>\n",
       "      <td>253.53</td>\n",
       "      <td>57267</td>\n",
       "      <td>bajo</td>\n",
       "      <td>19.459647</td>\n",
       "      <td>-99.104469</td>\n",
       "    </tr>\n",
       "    <tr>\n",
       "      <th>4</th>\n",
       "      <td>56.72</td>\n",
       "      <td>2019</td>\n",
       "      <td>azcapotzalco</td>\n",
       "      <td>67.436250</td>\n",
       "      <td>539.49</td>\n",
       "      <td>azcapotzalco</td>\n",
       "      <td>prohogar</td>\n",
       "      <td>56.72</td>\n",
       "      <td>839.35</td>\n",
       "      <td>76.304545</td>\n",
       "      <td>121.57</td>\n",
       "      <td>3</td>\n",
       "      <td>243.14</td>\n",
       "      <td>57330</td>\n",
       "      <td>bajo</td>\n",
       "      <td>19.474161</td>\n",
       "      <td>-99.146750</td>\n",
       "    </tr>\n",
       "  </tbody>\n",
       "</table>\n",
       "</div>"
      ],
      "text/plain": [
       "   consumo_total_mixto  anio             nomgeo  consumo_prom_dom  \\\n",
       "0               159.72  2019  gustavo a. madero         42.566364   \n",
       "1                 0.00  2019  gustavo a. madero         35.936667   \n",
       "2                 0.00  2019  gustavo a. madero         24.586000   \n",
       "3                 0.00  2019  gustavo a. madero          0.000000   \n",
       "4                56.72  2019       azcapotzalco         67.436250   \n",
       "\n",
       "   consumo_total_dom           alcaldia             colonia  \\\n",
       "0             468.23  gustavo a. madero      7 de noviembre   \n",
       "1             107.81  gustavo a. madero      7 de noviembre   \n",
       "2             122.93  gustavo a. madero      7 de noviembre   \n",
       "3               0.00  gustavo a. madero  nueva tenochtitlan   \n",
       "4             539.49       azcapotzalco            prohogar   \n",
       "\n",
       "   consumo_prom_mixto  consumo_total  consumo_prom  consumo_prom_no_dom  \\\n",
       "0               53.24         631.00     42.066667                 3.05   \n",
       "1                0.00         115.13     28.782500                 7.32   \n",
       "2                0.00         197.96     32.993333                75.03   \n",
       "3                0.00         253.53     84.510000                84.51   \n",
       "4               56.72         839.35     76.304545               121.57   \n",
       "\n",
       "  bimestre  consumo_total_no_dom    gid indice_des    latitud   longitud  \n",
       "0        3                  3.05  57250       alto  19.455260 -99.112662  \n",
       "1        3                  7.32  57253      medio  19.455260 -99.112662  \n",
       "2        3                 75.03  57255    popular  19.455720 -99.113582  \n",
       "3        3                253.53  57267       bajo  19.459647 -99.104469  \n",
       "4        3                243.14  57330       bajo  19.474161 -99.146750  "
      ]
     },
     "execution_count": 36,
     "metadata": {},
     "output_type": "execute_result"
    }
   ],
   "source": [
    "agua.drop(columns =[\"geo_shape\"], inplace = True) \n",
    "agua.head()"
   ]
  },
  {
   "cell_type": "markdown",
   "metadata": {},
   "source": [
    "### Cambiar a minúsculas las columnas alcaldía, colonia e indice_des."
   ]
  },
  {
   "cell_type": "markdown",
   "metadata": {},
   "source": [
    "hecho con las funciones anteriores"
   ]
  },
  {
   "cell_type": "markdown",
   "metadata": {},
   "source": [
    "### Volver a correr el proceso de identificación de variables numéricas, categóricas, texto y fechas."
   ]
  },
  {
   "cell_type": "markdown",
   "metadata": {},
   "source": [
    "#### Variables numéricas"
   ]
  },
  {
   "cell_type": "code",
   "execution_count": 37,
   "metadata": {},
   "outputs": [
    {
     "data": {
      "text/plain": [
       "11"
      ]
     },
     "execution_count": 37,
     "metadata": {},
     "output_type": "execute_result"
    }
   ],
   "source": [
    "eda_eq.cuenta_tipo_de_dato(agua,'numerico')"
   ]
  },
  {
   "cell_type": "markdown",
   "metadata": {},
   "source": [
    "#### Variables categóricas"
   ]
  },
  {
   "cell_type": "code",
   "execution_count": 38,
   "metadata": {},
   "outputs": [
    {
     "data": {
      "text/plain": [
       "6"
      ]
     },
     "execution_count": 38,
     "metadata": {},
     "output_type": "execute_result"
    }
   ],
   "source": [
    "eda_eq.cuenta_tipo_de_dato(agua,'category')"
   ]
  },
  {
   "cell_type": "markdown",
   "metadata": {},
   "source": [
    "#### Variables de texto"
   ]
  },
  {
   "cell_type": "code",
   "execution_count": 39,
   "metadata": {},
   "outputs": [
    {
     "data": {
      "text/plain": [
       "0"
      ]
     },
     "execution_count": 39,
     "metadata": {},
     "output_type": "execute_result"
    }
   ],
   "source": [
    "eda_eq.cuenta_tipo_de_dato(agua,'object')"
   ]
  },
  {
   "cell_type": "markdown",
   "metadata": {},
   "source": [
    "#### Variables de tipo fecha"
   ]
  },
  {
   "cell_type": "code",
   "execution_count": 40,
   "metadata": {},
   "outputs": [
    {
     "data": {
      "text/plain": [
       "0"
      ]
     },
     "execution_count": 40,
     "metadata": {},
     "output_type": "execute_result"
    }
   ],
   "source": [
    "eda_eq.cuenta_tipo_de_dato(agua,'Date')"
   ]
  },
  {
   "cell_type": "markdown",
   "metadata": {},
   "source": [
    "### Genera el data profiling por variable (puedes ocupar el paquete pandas-profiling de pandas)"
   ]
  },
  {
   "cell_type": "markdown",
   "metadata": {},
   "source": [
    "#### Perfilamiento propio --> General"
   ]
  },
  {
   "cell_type": "code",
   "execution_count": 41,
   "metadata": {},
   "outputs": [
    {
     "name": "stdout",
     "output_type": "stream",
     "text": [
      "El dataframe tiene 17 columnas.\n",
      "Hay 4 columnas que tienen NA's.\n"
     ]
    },
    {
     "data": {
      "text/html": [
       "<div>\n",
       "<style scoped>\n",
       "    .dataframe tbody tr th:only-of-type {\n",
       "        vertical-align: middle;\n",
       "    }\n",
       "\n",
       "    .dataframe tbody tr th {\n",
       "        vertical-align: top;\n",
       "    }\n",
       "\n",
       "    .dataframe thead th {\n",
       "        text-align: right;\n",
       "    }\n",
       "</style>\n",
       "<table border=\"1\" class=\"dataframe\">\n",
       "  <thead>\n",
       "    <tr style=\"text-align: right;\">\n",
       "      <th></th>\n",
       "      <th>Estadisticas</th>\n",
       "      <th>Resultado</th>\n",
       "    </tr>\n",
       "  </thead>\n",
       "  <tbody>\n",
       "    <tr>\n",
       "      <th>0</th>\n",
       "      <td>Total de variables</td>\n",
       "      <td>17</td>\n",
       "    </tr>\n",
       "    <tr>\n",
       "      <th>1</th>\n",
       "      <td>Conteo de observaciones</td>\n",
       "      <td>71102</td>\n",
       "    </tr>\n",
       "    <tr>\n",
       "      <th>2</th>\n",
       "      <td>Total de celdas</td>\n",
       "      <td>1208734</td>\n",
       "    </tr>\n",
       "    <tr>\n",
       "      <th>3</th>\n",
       "      <td>Cantidad de variables numericas</td>\n",
       "      <td>11</td>\n",
       "    </tr>\n",
       "    <tr>\n",
       "      <th>4</th>\n",
       "      <td>Cantidad de variables de fecha</td>\n",
       "      <td>0</td>\n",
       "    </tr>\n",
       "    <tr>\n",
       "      <th>5</th>\n",
       "      <td>Cantidad de variables categóricas</td>\n",
       "      <td>6</td>\n",
       "    </tr>\n",
       "    <tr>\n",
       "      <th>6</th>\n",
       "      <td>Cantidad de variables de texto</td>\n",
       "      <td>0</td>\n",
       "    </tr>\n",
       "    <tr>\n",
       "      <th>7</th>\n",
       "      <td>Valores faltantes</td>\n",
       "      <td>26294</td>\n",
       "    </tr>\n",
       "    <tr>\n",
       "      <th>8</th>\n",
       "      <td>Porcentaje de valores faltantes</td>\n",
       "      <td>2.2%</td>\n",
       "    </tr>\n",
       "    <tr>\n",
       "      <th>9</th>\n",
       "      <td>Renglones duplicados</td>\n",
       "      <td>0</td>\n",
       "    </tr>\n",
       "    <tr>\n",
       "      <th>10</th>\n",
       "      <td>Porcentaje de valores duplicados</td>\n",
       "      <td>0.0%</td>\n",
       "    </tr>\n",
       "  </tbody>\n",
       "</table>\n",
       "</div>"
      ],
      "text/plain": [
       "                         Estadisticas Resultado\n",
       "0                  Total de variables        17\n",
       "1             Conteo de observaciones     71102\n",
       "2                     Total de celdas   1208734\n",
       "3     Cantidad de variables numericas        11\n",
       "4      Cantidad de variables de fecha         0\n",
       "5   Cantidad de variables categóricas         6\n",
       "6      Cantidad de variables de texto         0\n",
       "7                   Valores faltantes     26294\n",
       "8     Porcentaje de valores faltantes      2.2%\n",
       "9                Renglones duplicados         0\n",
       "10   Porcentaje de valores duplicados      0.0%"
      ]
     },
     "execution_count": 41,
     "metadata": {},
     "output_type": "execute_result"
    }
   ],
   "source": [
    "eda_eq.genera_profiling_general(agua)"
   ]
  },
  {
   "cell_type": "code",
   "execution_count": 42,
   "metadata": {},
   "outputs": [
    {
     "name": "stdout",
     "output_type": "stream",
     "text": [
      "El dataframe tiene 17 columnas.\n",
      "Hay 4 columnas que tienen NA's.\n"
     ]
    },
    {
     "data": {
      "text/html": [
       "<div>\n",
       "<style scoped>\n",
       "    .dataframe tbody tr th:only-of-type {\n",
       "        vertical-align: middle;\n",
       "    }\n",
       "\n",
       "    .dataframe tbody tr th {\n",
       "        vertical-align: top;\n",
       "    }\n",
       "\n",
       "    .dataframe thead th {\n",
       "        text-align: right;\n",
       "    }\n",
       "</style>\n",
       "<table border=\"1\" class=\"dataframe\">\n",
       "  <thead>\n",
       "    <tr style=\"text-align: right;\">\n",
       "      <th></th>\n",
       "      <th>Missing Values</th>\n",
       "      <th>% del Total</th>\n",
       "    </tr>\n",
       "  </thead>\n",
       "  <tbody>\n",
       "    <tr>\n",
       "      <th>consumo_total_mixto</th>\n",
       "      <td>8327</td>\n",
       "      <td>11.7</td>\n",
       "    </tr>\n",
       "    <tr>\n",
       "      <th>consumo_prom_mixto</th>\n",
       "      <td>8327</td>\n",
       "      <td>11.7</td>\n",
       "    </tr>\n",
       "    <tr>\n",
       "      <th>consumo_prom_dom</th>\n",
       "      <td>4820</td>\n",
       "      <td>6.8</td>\n",
       "    </tr>\n",
       "    <tr>\n",
       "      <th>consumo_total_dom</th>\n",
       "      <td>4820</td>\n",
       "      <td>6.8</td>\n",
       "    </tr>\n",
       "  </tbody>\n",
       "</table>\n",
       "</div>"
      ],
      "text/plain": [
       "                     Missing Values  % del Total\n",
       "consumo_total_mixto            8327         11.7\n",
       "consumo_prom_mixto             8327         11.7\n",
       "consumo_prom_dom               4820          6.8\n",
       "consumo_total_dom              4820          6.8"
      ]
     },
     "execution_count": 42,
     "metadata": {},
     "output_type": "execute_result"
    }
   ],
   "source": [
    "eda_eq.cuenta_nulos_por_columnas(agua)"
   ]
  },
  {
   "cell_type": "code",
   "execution_count": 43,
   "metadata": {},
   "outputs": [
    {
     "name": "stdout",
     "output_type": "stream",
     "text": [
      "Existen un total de:  8888 renglones con al menos un valor nulo\n",
      "\n",
      "Representan el 12.50% del total de renglones.\n"
     ]
    },
    {
     "data": {
      "text/plain": [
       "8888"
      ]
     },
     "execution_count": 43,
     "metadata": {},
     "output_type": "execute_result"
    }
   ],
   "source": [
    "eda_eq.cuenta_nulos_por_renglones(agua)"
   ]
  },
  {
   "cell_type": "code",
   "execution_count": 44,
   "metadata": {},
   "outputs": [
    {
     "data": {
      "text/html": [
       "<div>\n",
       "<style scoped>\n",
       "    .dataframe tbody tr th:only-of-type {\n",
       "        vertical-align: middle;\n",
       "    }\n",
       "\n",
       "    .dataframe tbody tr th {\n",
       "        vertical-align: top;\n",
       "    }\n",
       "\n",
       "    .dataframe thead th {\n",
       "        text-align: right;\n",
       "    }\n",
       "</style>\n",
       "<table border=\"1\" class=\"dataframe\">\n",
       "  <thead>\n",
       "    <tr style=\"text-align: right;\">\n",
       "      <th></th>\n",
       "      <th>renglon</th>\n",
       "      <th>valores_nulos</th>\n",
       "    </tr>\n",
       "  </thead>\n",
       "  <tbody>\n",
       "    <tr>\n",
       "      <th>51622</th>\n",
       "      <td>Nan in row 51622</td>\n",
       "      <td>4</td>\n",
       "    </tr>\n",
       "    <tr>\n",
       "      <th>24050</th>\n",
       "      <td>Nan in row 24050</td>\n",
       "      <td>4</td>\n",
       "    </tr>\n",
       "    <tr>\n",
       "      <th>24064</th>\n",
       "      <td>Nan in row 24064</td>\n",
       "      <td>4</td>\n",
       "    </tr>\n",
       "    <tr>\n",
       "      <th>24063</th>\n",
       "      <td>Nan in row 24063</td>\n",
       "      <td>4</td>\n",
       "    </tr>\n",
       "    <tr>\n",
       "      <th>24062</th>\n",
       "      <td>Nan in row 24062</td>\n",
       "      <td>4</td>\n",
       "    </tr>\n",
       "    <tr>\n",
       "      <th>24061</th>\n",
       "      <td>Nan in row 24061</td>\n",
       "      <td>4</td>\n",
       "    </tr>\n",
       "    <tr>\n",
       "      <th>36376</th>\n",
       "      <td>Nan in row 36376</td>\n",
       "      <td>4</td>\n",
       "    </tr>\n",
       "    <tr>\n",
       "      <th>24052</th>\n",
       "      <td>Nan in row 24052</td>\n",
       "      <td>4</td>\n",
       "    </tr>\n",
       "    <tr>\n",
       "      <th>24049</th>\n",
       "      <td>Nan in row 24049</td>\n",
       "      <td>4</td>\n",
       "    </tr>\n",
       "    <tr>\n",
       "      <th>23604</th>\n",
       "      <td>Nan in row 23604</td>\n",
       "      <td>4</td>\n",
       "    </tr>\n",
       "  </tbody>\n",
       "</table>\n",
       "</div>"
      ],
      "text/plain": [
       "                renglon  valores_nulos\n",
       "51622  Nan in row 51622              4\n",
       "24050  Nan in row 24050              4\n",
       "24064  Nan in row 24064              4\n",
       "24063  Nan in row 24063              4\n",
       "24062  Nan in row 24062              4\n",
       "24061  Nan in row 24061              4\n",
       "36376  Nan in row 36376              4\n",
       "24052  Nan in row 24052              4\n",
       "24049  Nan in row 24049              4\n",
       "23604  Nan in row 23604              4"
      ]
     },
     "execution_count": 44,
     "metadata": {},
     "output_type": "execute_result"
    }
   ],
   "source": [
    "eda_eq.cuenta_nulos_por_renglones_tabla(agua)"
   ]
  },
  {
   "cell_type": "markdown",
   "metadata": {},
   "source": [
    "#### Perfilamiento propio --> Por variable"
   ]
  },
  {
   "cell_type": "code",
   "execution_count": 45,
   "metadata": {},
   "outputs": [],
   "source": [
    "profiling_numerico,profiling_categoricas,profiling_texto = eda_eq.genera_profiling_por_variable(agua)"
   ]
  },
  {
   "cell_type": "code",
   "execution_count": 46,
   "metadata": {},
   "outputs": [
    {
     "data": {
      "text/html": [
       "<div>\n",
       "<style scoped>\n",
       "    .dataframe tbody tr th:only-of-type {\n",
       "        vertical-align: middle;\n",
       "    }\n",
       "\n",
       "    .dataframe tbody tr th {\n",
       "        vertical-align: top;\n",
       "    }\n",
       "\n",
       "    .dataframe thead th {\n",
       "        text-align: right;\n",
       "    }\n",
       "</style>\n",
       "<table border=\"1\" class=\"dataframe\">\n",
       "  <thead>\n",
       "    <tr style=\"text-align: right;\">\n",
       "      <th></th>\n",
       "      <th>metrica</th>\n",
       "      <th>anio</th>\n",
       "      <th>consumo_total_mixto</th>\n",
       "      <th>consumo_prom_dom</th>\n",
       "      <th>consumo_total_dom</th>\n",
       "      <th>consumo_prom_mixto</th>\n",
       "      <th>consumo_total</th>\n",
       "      <th>consumo_prom</th>\n",
       "      <th>consumo_prom_no_dom</th>\n",
       "      <th>consumo_total_no_dom</th>\n",
       "      <th>latitud</th>\n",
       "      <th>longitud</th>\n",
       "    </tr>\n",
       "  </thead>\n",
       "  <tbody>\n",
       "    <tr>\n",
       "      <th>0</th>\n",
       "      <td>tipo</td>\n",
       "      <td>int64</td>\n",
       "      <td>float64</td>\n",
       "      <td>float64</td>\n",
       "      <td>float64</td>\n",
       "      <td>float64</td>\n",
       "      <td>float64</td>\n",
       "      <td>float64</td>\n",
       "      <td>float64</td>\n",
       "      <td>float64</td>\n",
       "      <td>float64</td>\n",
       "      <td>float64</td>\n",
       "    </tr>\n",
       "    <tr>\n",
       "      <th>1</th>\n",
       "      <td>numero de observaciones</td>\n",
       "      <td>71102</td>\n",
       "      <td>62775</td>\n",
       "      <td>66282</td>\n",
       "      <td>66282</td>\n",
       "      <td>62775</td>\n",
       "      <td>71102</td>\n",
       "      <td>71102</td>\n",
       "      <td>71102</td>\n",
       "      <td>71102</td>\n",
       "      <td>71102</td>\n",
       "      <td>71102</td>\n",
       "    </tr>\n",
       "    <tr>\n",
       "      <th>2</th>\n",
       "      <td>media</td>\n",
       "      <td>2019</td>\n",
       "      <td>174.36</td>\n",
       "      <td>29.13</td>\n",
       "      <td>1186.26</td>\n",
       "      <td>50.64</td>\n",
       "      <td>1695.85</td>\n",
       "      <td>111.22</td>\n",
       "      <td>126.76</td>\n",
       "      <td>436.06</td>\n",
       "      <td>19.39</td>\n",
       "      <td>-99.13</td>\n",
       "    </tr>\n",
       "    <tr>\n",
       "      <th>3</th>\n",
       "      <td>desviacion estándar</td>\n",
       "      <td>0</td>\n",
       "      <td>312.66</td>\n",
       "      <td>64.57</td>\n",
       "      <td>2771.04</td>\n",
       "      <td>130.41</td>\n",
       "      <td>3555.7</td>\n",
       "      <td>1069.95</td>\n",
       "      <td>1095.82</td>\n",
       "      <td>2126.15</td>\n",
       "      <td>0.07</td>\n",
       "      <td>0.06</td>\n",
       "    </tr>\n",
       "    <tr>\n",
       "      <th>4</th>\n",
       "      <td>cuartil 25%</td>\n",
       "      <td>2019</td>\n",
       "      <td>0</td>\n",
       "      <td>18.69</td>\n",
       "      <td>161.64</td>\n",
       "      <td>0</td>\n",
       "      <td>340.95</td>\n",
       "      <td>23.01</td>\n",
       "      <td>6.28</td>\n",
       "      <td>10.98</td>\n",
       "      <td>19.34</td>\n",
       "      <td>-99.17</td>\n",
       "    </tr>\n",
       "    <tr>\n",
       "      <th>5</th>\n",
       "      <td>cuartil 50%</td>\n",
       "      <td>2019</td>\n",
       "      <td>79.94</td>\n",
       "      <td>26.41</td>\n",
       "      <td>604.18</td>\n",
       "      <td>33.45</td>\n",
       "      <td>896.18</td>\n",
       "      <td>31.69</td>\n",
       "      <td>19.28</td>\n",
       "      <td>54.06</td>\n",
       "      <td>19.39</td>\n",
       "      <td>-99.14</td>\n",
       "    </tr>\n",
       "    <tr>\n",
       "      <th>6</th>\n",
       "      <td>cuartil 75%</td>\n",
       "      <td>2019</td>\n",
       "      <td>233.32</td>\n",
       "      <td>36.25</td>\n",
       "      <td>1261.45</td>\n",
       "      <td>61.22</td>\n",
       "      <td>1808.9</td>\n",
       "      <td>45.48</td>\n",
       "      <td>54.19</td>\n",
       "      <td>230.43</td>\n",
       "      <td>19.45</td>\n",
       "      <td>-99.1</td>\n",
       "    </tr>\n",
       "    <tr>\n",
       "      <th>7</th>\n",
       "      <td>minimo</td>\n",
       "      <td>2019</td>\n",
       "      <td>0</td>\n",
       "      <td>0</td>\n",
       "      <td>0</td>\n",
       "      <td>0</td>\n",
       "      <td>0</td>\n",
       "      <td>0</td>\n",
       "      <td>0</td>\n",
       "      <td>0</td>\n",
       "      <td>19.14</td>\n",
       "      <td>-99.34</td>\n",
       "    </tr>\n",
       "    <tr>\n",
       "      <th>8</th>\n",
       "      <td>maximo</td>\n",
       "      <td>2019</td>\n",
       "      <td>23404.4</td>\n",
       "      <td>7796.41</td>\n",
       "      <td>95060.7</td>\n",
       "      <td>11702.2</td>\n",
       "      <td>119727</td>\n",
       "      <td>89691.8</td>\n",
       "      <td>89691.8</td>\n",
       "      <td>119727</td>\n",
       "      <td>19.58</td>\n",
       "      <td>-98.95</td>\n",
       "    </tr>\n",
       "    <tr>\n",
       "      <th>9</th>\n",
       "      <td>numero de observaciones unicas</td>\n",
       "      <td>1</td>\n",
       "      <td>24339</td>\n",
       "      <td>52060</td>\n",
       "      <td>47051</td>\n",
       "      <td>31911</td>\n",
       "      <td>56015</td>\n",
       "      <td>62214</td>\n",
       "      <td>37440</td>\n",
       "      <td>27336</td>\n",
       "      <td>22930</td>\n",
       "      <td>22930</td>\n",
       "    </tr>\n",
       "    <tr>\n",
       "      <th>10</th>\n",
       "      <td>top5 repetidos</td>\n",
       "      <td>conteo_top_5\n",
       "2019         71102</td>\n",
       "      <td>conteo_top_5\n",
       "0.0          17715\n",
       "36.0    ...</td>\n",
       "      <td>conteo_top_5\n",
       "0.00           9861\n",
       "1.22  ...</td>\n",
       "      <td>conteo_top_5\n",
       "0.00           9861\n",
       "1.22  ...</td>\n",
       "      <td>conteo_top_5\n",
       "0.00          17715\n",
       "36.00 ...</td>\n",
       "      <td>conteo_top_5\n",
       "0.00          2451\n",
       "3.05    ...</td>\n",
       "      <td>conteo_top_5\n",
       "0.00          2451\n",
       "1.22    ...</td>\n",
       "      <td>conteo_top_5\n",
       "0.00          8109\n",
       "1.22    ...</td>\n",
       "      <td>conteo_top_5\n",
       "0.00          8109\n",
       "1.22    ...</td>\n",
       "      <td>conteo_top_5\n",
       "19.495460            2...</td>\n",
       "      <td>conteo_top_5\n",
       "-99.137563           ...</td>\n",
       "    </tr>\n",
       "  </tbody>\n",
       "</table>\n",
       "</div>"
      ],
      "text/plain": [
       "                           metrica                                   anio  \\\n",
       "0                             tipo                                  int64   \n",
       "1          numero de observaciones                                  71102   \n",
       "2                            media                                   2019   \n",
       "3              desviacion estándar                                      0   \n",
       "4                      cuartil 25%                                   2019   \n",
       "5                      cuartil 50%                                   2019   \n",
       "6                      cuartil 75%                                   2019   \n",
       "7                           minimo                                   2019   \n",
       "8                           maximo                                   2019   \n",
       "9   numero de observaciones unicas                                      1   \n",
       "10                  top5 repetidos        conteo_top_5\n",
       "2019         71102   \n",
       "\n",
       "                                  consumo_total_mixto  \\\n",
       "0                                             float64   \n",
       "1                                               62775   \n",
       "2                                              174.36   \n",
       "3                                              312.66   \n",
       "4                                                   0   \n",
       "5                                               79.94   \n",
       "6                                              233.32   \n",
       "7                                                   0   \n",
       "8                                             23404.4   \n",
       "9                                               24339   \n",
       "10        conteo_top_5\n",
       "0.0          17715\n",
       "36.0    ...   \n",
       "\n",
       "                                     consumo_prom_dom  \\\n",
       "0                                             float64   \n",
       "1                                               66282   \n",
       "2                                               29.13   \n",
       "3                                               64.57   \n",
       "4                                               18.69   \n",
       "5                                               26.41   \n",
       "6                                               36.25   \n",
       "7                                                   0   \n",
       "8                                             7796.41   \n",
       "9                                               52060   \n",
       "10         conteo_top_5\n",
       "0.00           9861\n",
       "1.22  ...   \n",
       "\n",
       "                                    consumo_total_dom  \\\n",
       "0                                             float64   \n",
       "1                                               66282   \n",
       "2                                             1186.26   \n",
       "3                                             2771.04   \n",
       "4                                              161.64   \n",
       "5                                              604.18   \n",
       "6                                             1261.45   \n",
       "7                                                   0   \n",
       "8                                             95060.7   \n",
       "9                                               47051   \n",
       "10         conteo_top_5\n",
       "0.00           9861\n",
       "1.22  ...   \n",
       "\n",
       "                                   consumo_prom_mixto  \\\n",
       "0                                             float64   \n",
       "1                                               62775   \n",
       "2                                               50.64   \n",
       "3                                              130.41   \n",
       "4                                                   0   \n",
       "5                                               33.45   \n",
       "6                                               61.22   \n",
       "7                                                   0   \n",
       "8                                             11702.2   \n",
       "9                                               31911   \n",
       "10         conteo_top_5\n",
       "0.00          17715\n",
       "36.00 ...   \n",
       "\n",
       "                                        consumo_total  \\\n",
       "0                                             float64   \n",
       "1                                               71102   \n",
       "2                                             1695.85   \n",
       "3                                              3555.7   \n",
       "4                                              340.95   \n",
       "5                                              896.18   \n",
       "6                                              1808.9   \n",
       "7                                                   0   \n",
       "8                                              119727   \n",
       "9                                               56015   \n",
       "10        conteo_top_5\n",
       "0.00          2451\n",
       "3.05    ...   \n",
       "\n",
       "                                         consumo_prom  \\\n",
       "0                                             float64   \n",
       "1                                               71102   \n",
       "2                                              111.22   \n",
       "3                                             1069.95   \n",
       "4                                               23.01   \n",
       "5                                               31.69   \n",
       "6                                               45.48   \n",
       "7                                                   0   \n",
       "8                                             89691.8   \n",
       "9                                               62214   \n",
       "10        conteo_top_5\n",
       "0.00          2451\n",
       "1.22    ...   \n",
       "\n",
       "                                  consumo_prom_no_dom  \\\n",
       "0                                             float64   \n",
       "1                                               71102   \n",
       "2                                              126.76   \n",
       "3                                             1095.82   \n",
       "4                                                6.28   \n",
       "5                                               19.28   \n",
       "6                                               54.19   \n",
       "7                                                   0   \n",
       "8                                             89691.8   \n",
       "9                                               37440   \n",
       "10        conteo_top_5\n",
       "0.00          8109\n",
       "1.22    ...   \n",
       "\n",
       "                                 consumo_total_no_dom  \\\n",
       "0                                             float64   \n",
       "1                                               71102   \n",
       "2                                              436.06   \n",
       "3                                             2126.15   \n",
       "4                                               10.98   \n",
       "5                                               54.06   \n",
       "6                                              230.43   \n",
       "7                                                   0   \n",
       "8                                              119727   \n",
       "9                                               27336   \n",
       "10        conteo_top_5\n",
       "0.00          8109\n",
       "1.22    ...   \n",
       "\n",
       "                                              latitud  \\\n",
       "0                                             float64   \n",
       "1                                               71102   \n",
       "2                                               19.39   \n",
       "3                                                0.07   \n",
       "4                                               19.34   \n",
       "5                                               19.39   \n",
       "6                                               19.45   \n",
       "7                                               19.14   \n",
       "8                                               19.58   \n",
       "9                                               22930   \n",
       "10             conteo_top_5\n",
       "19.495460            2...   \n",
       "\n",
       "                                             longitud  \n",
       "0                                             float64  \n",
       "1                                               71102  \n",
       "2                                              -99.13  \n",
       "3                                                0.06  \n",
       "4                                              -99.17  \n",
       "5                                              -99.14  \n",
       "6                                               -99.1  \n",
       "7                                              -99.34  \n",
       "8                                              -98.95  \n",
       "9                                               22930  \n",
       "10              conteo_top_5\n",
       "-99.137563           ...  "
      ]
     },
     "execution_count": 46,
     "metadata": {},
     "output_type": "execute_result"
    }
   ],
   "source": [
    "profiling_numerico"
   ]
  },
  {
   "cell_type": "code",
   "execution_count": 47,
   "metadata": {},
   "outputs": [
    {
     "data": {
      "text/html": [
       "<div>\n",
       "<style scoped>\n",
       "    .dataframe tbody tr th:only-of-type {\n",
       "        vertical-align: middle;\n",
       "    }\n",
       "\n",
       "    .dataframe tbody tr th {\n",
       "        vertical-align: top;\n",
       "    }\n",
       "\n",
       "    .dataframe thead th {\n",
       "        text-align: right;\n",
       "    }\n",
       "</style>\n",
       "<table border=\"1\" class=\"dataframe\">\n",
       "  <thead>\n",
       "    <tr style=\"text-align: right;\">\n",
       "      <th></th>\n",
       "      <th>metrica</th>\n",
       "      <th>nomgeo</th>\n",
       "      <th>alcaldia</th>\n",
       "      <th>colonia</th>\n",
       "      <th>bimestre</th>\n",
       "      <th>gid</th>\n",
       "      <th>indice_des</th>\n",
       "    </tr>\n",
       "  </thead>\n",
       "  <tbody>\n",
       "    <tr>\n",
       "      <th>0</th>\n",
       "      <td>tipo</td>\n",
       "      <td>category</td>\n",
       "      <td>category</td>\n",
       "      <td>category</td>\n",
       "      <td>category</td>\n",
       "      <td>category</td>\n",
       "      <td>category</td>\n",
       "    </tr>\n",
       "    <tr>\n",
       "      <th>1</th>\n",
       "      <td>numero de categorias</td>\n",
       "      <td>16</td>\n",
       "      <td>16</td>\n",
       "      <td>1340</td>\n",
       "      <td>3</td>\n",
       "      <td>71102</td>\n",
       "      <td>4</td>\n",
       "    </tr>\n",
       "    <tr>\n",
       "      <th>2</th>\n",
       "      <td>numero de observaciones</td>\n",
       "      <td>71102</td>\n",
       "      <td>71102</td>\n",
       "      <td>71102</td>\n",
       "      <td>71102</td>\n",
       "      <td>71102</td>\n",
       "      <td>71102</td>\n",
       "    </tr>\n",
       "    <tr>\n",
       "      <th>3</th>\n",
       "      <td>observaciones nulas</td>\n",
       "      <td>0</td>\n",
       "      <td>0</td>\n",
       "      <td>0</td>\n",
       "      <td>0</td>\n",
       "      <td>0</td>\n",
       "      <td>0</td>\n",
       "    </tr>\n",
       "    <tr>\n",
       "      <th>4</th>\n",
       "      <td>% observaciones nulas</td>\n",
       "      <td>0</td>\n",
       "      <td>0</td>\n",
       "      <td>0</td>\n",
       "      <td>0</td>\n",
       "      <td>0</td>\n",
       "      <td>0</td>\n",
       "    </tr>\n",
       "    <tr>\n",
       "      <th>5</th>\n",
       "      <td>valores unicos</td>\n",
       "      <td>[gustavo a. madero, azcapotzalco, coyoacan, tl...</td>\n",
       "      <td>[gustavo a. madero, azcapotzalco, coyoacan, tl...</td>\n",
       "      <td>[7 de noviembre, nueva tenochtitlan, prohogar,...</td>\n",
       "      <td>[3, 1, 2]</td>\n",
       "      <td>[57250, 57253, 57255, 57267, 57330, 57273, 572...</td>\n",
       "      <td>[alto, medio, popular, bajo]</td>\n",
       "    </tr>\n",
       "    <tr>\n",
       "      <th>6</th>\n",
       "      <td>moda1/veces/porcentaje</td>\n",
       "      <td>[iztapalapa, 10515, 14.79%]</td>\n",
       "      <td>[iztapalapa, 10515, 14.79%]</td>\n",
       "      <td>[centro, 1139, 1.6%]</td>\n",
       "      <td>[2, 23942, 33.67%]</td>\n",
       "      <td>[71102, 1, 0.0%]</td>\n",
       "      <td>[bajo, 29248, 41.14%]</td>\n",
       "    </tr>\n",
       "    <tr>\n",
       "      <th>7</th>\n",
       "      <td>moda2/veces/porcentaje</td>\n",
       "      <td>[gustavo a. madero, 10058, 14.15%]</td>\n",
       "      <td>[gustavo a. madero, 10058, 14.15%]</td>\n",
       "      <td>[agricola oriental, 837, 1.18%]</td>\n",
       "      <td>[3, 23822, 33.5%]</td>\n",
       "      <td>[23703, 1, 0.0%]</td>\n",
       "      <td>[popular, 16539, 23.26%]</td>\n",
       "    </tr>\n",
       "    <tr>\n",
       "      <th>8</th>\n",
       "      <td>moda3/veces/porcentaje</td>\n",
       "      <td>[cuauhtemoc, 7313, 10.29%]</td>\n",
       "      <td>[cuauhtemoc, 7313, 10.29%]</td>\n",
       "      <td>[roma norte, 602, 0.85%]</td>\n",
       "      <td>[1, 23338, 32.82%]</td>\n",
       "      <td>[23697, 1, 0.0%]</td>\n",
       "      <td>[alto, 15516, 21.82%]</td>\n",
       "    </tr>\n",
       "  </tbody>\n",
       "</table>\n",
       "</div>"
      ],
      "text/plain": [
       "                   metrica                                             nomgeo  \\\n",
       "0                     tipo                                           category   \n",
       "1     numero de categorias                                                 16   \n",
       "2  numero de observaciones                                              71102   \n",
       "3      observaciones nulas                                                  0   \n",
       "4    % observaciones nulas                                                  0   \n",
       "5           valores unicos  [gustavo a. madero, azcapotzalco, coyoacan, tl...   \n",
       "6   moda1/veces/porcentaje                        [iztapalapa, 10515, 14.79%]   \n",
       "7   moda2/veces/porcentaje                 [gustavo a. madero, 10058, 14.15%]   \n",
       "8   moda3/veces/porcentaje                         [cuauhtemoc, 7313, 10.29%]   \n",
       "\n",
       "                                            alcaldia  \\\n",
       "0                                           category   \n",
       "1                                                 16   \n",
       "2                                              71102   \n",
       "3                                                  0   \n",
       "4                                                  0   \n",
       "5  [gustavo a. madero, azcapotzalco, coyoacan, tl...   \n",
       "6                        [iztapalapa, 10515, 14.79%]   \n",
       "7                 [gustavo a. madero, 10058, 14.15%]   \n",
       "8                         [cuauhtemoc, 7313, 10.29%]   \n",
       "\n",
       "                                             colonia            bimestre  \\\n",
       "0                                           category            category   \n",
       "1                                               1340                   3   \n",
       "2                                              71102               71102   \n",
       "3                                                  0                   0   \n",
       "4                                                  0                   0   \n",
       "5  [7 de noviembre, nueva tenochtitlan, prohogar,...           [3, 1, 2]   \n",
       "6                               [centro, 1139, 1.6%]  [2, 23942, 33.67%]   \n",
       "7                    [agricola oriental, 837, 1.18%]   [3, 23822, 33.5%]   \n",
       "8                           [roma norte, 602, 0.85%]  [1, 23338, 32.82%]   \n",
       "\n",
       "                                                 gid  \\\n",
       "0                                           category   \n",
       "1                                              71102   \n",
       "2                                              71102   \n",
       "3                                                  0   \n",
       "4                                                  0   \n",
       "5  [57250, 57253, 57255, 57267, 57330, 57273, 572...   \n",
       "6                                   [71102, 1, 0.0%]   \n",
       "7                                   [23703, 1, 0.0%]   \n",
       "8                                   [23697, 1, 0.0%]   \n",
       "\n",
       "                     indice_des  \n",
       "0                      category  \n",
       "1                             4  \n",
       "2                         71102  \n",
       "3                             0  \n",
       "4                             0  \n",
       "5  [alto, medio, popular, bajo]  \n",
       "6         [bajo, 29248, 41.14%]  \n",
       "7      [popular, 16539, 23.26%]  \n",
       "8         [alto, 15516, 21.82%]  "
      ]
     },
     "execution_count": 47,
     "metadata": {},
     "output_type": "execute_result"
    }
   ],
   "source": [
    "profiling_categoricas"
   ]
  },
  {
   "cell_type": "code",
   "execution_count": 48,
   "metadata": {},
   "outputs": [
    {
     "data": {
      "text/plain": [
       "'No hay variables de tipo texto'"
      ]
     },
     "execution_count": 48,
     "metadata": {},
     "output_type": "execute_result"
    }
   ],
   "source": [
    "profiling_texto"
   ]
  },
  {
   "cell_type": "markdown",
   "metadata": {},
   "source": [
    "### Genera el profiling de cada variable (Pandas profiling)"
   ]
  },
  {
   "cell_type": "code",
   "execution_count": 49,
   "metadata": {},
   "outputs": [],
   "source": [
    "#profile = ProfileReport(agua, title='Pandas Profiling Report')"
   ]
  },
  {
   "cell_type": "code",
   "execution_count": 50,
   "metadata": {},
   "outputs": [],
   "source": [
    "#profile"
   ]
  },
  {
   "cell_type": "code",
   "execution_count": 51,
   "metadata": {},
   "outputs": [],
   "source": [
    "#profile.to_file(output_file = '../results/pandas_profiling_final.html')"
   ]
  },
  {
   "cell_type": "markdown",
   "metadata": {},
   "source": [
    "Queremos generar el data profiling de estos datos.\n",
    "\n",
    "* ¿Cuántas variables tenemos?\n",
    "* ¿Cuántas observaciones tenemos?\n",
    "* ¿Cuántas observaciones únicas tenemos por variable?\n",
    "* ¿Cuántas variables numéricas tenemos?\n",
    "* ¿Cuántas variables de fecha tenemos?\n",
    "* ¿Cuántas variables categóricas tenemos?\n",
    "* ¿Cuántas variables de texto tenemos?\n",
    "* Generea el profiling de cada variable\n",
    "* ¿Qué conocemos ahora de este set de datos por variable?\n",
    "* ¿Cuántas alcadías tienes? ¿Cuántos nomgeo tienes? ¿Identificas algún error?\n",
    "\n",
    "* Transformar las variables a formato estándar: minúsculas, sin espacios en blanco, sin signos de puntuación.\n",
    "* Agregar la variable latitud y longitud.\n",
    "* Pasar la variable latitud y longitud a numérica -si no la tomó como numérica-.\n",
    "* Eliminar la columna geo_point -una vez que creaste la variable latitud y longitud.\n",
    "* Eliminar la columna geo_shape.\n",
    "* Cambiar a minúsculas las columnas alcaldía, colonia e indice_des.\n",
    "* Volver a correr el proceso de identificación de variables numéricas, categóricas, texto y fechas.\n",
    "* Genera el data profiling por variable (puedes ocupar el paquete pandas-profiling de pandas)"
   ]
  },
  {
   "cell_type": "code",
   "execution_count": 55,
   "metadata": {},
   "outputs": [
    {
     "data": {
      "text/html": [
       "<div>\n",
       "<style scoped>\n",
       "    .dataframe tbody tr th:only-of-type {\n",
       "        vertical-align: middle;\n",
       "    }\n",
       "\n",
       "    .dataframe tbody tr th {\n",
       "        vertical-align: top;\n",
       "    }\n",
       "\n",
       "    .dataframe thead th {\n",
       "        text-align: right;\n",
       "    }\n",
       "</style>\n",
       "<table border=\"1\" class=\"dataframe\">\n",
       "  <thead>\n",
       "    <tr style=\"text-align: right;\">\n",
       "      <th></th>\n",
       "      <th>consumo_total_mixto</th>\n",
       "      <th>anio</th>\n",
       "      <th>nomgeo</th>\n",
       "      <th>consumo_prom_dom</th>\n",
       "      <th>consumo_total_dom</th>\n",
       "      <th>alcaldia</th>\n",
       "      <th>colonia</th>\n",
       "      <th>consumo_prom_mixto</th>\n",
       "      <th>consumo_total</th>\n",
       "      <th>consumo_prom</th>\n",
       "      <th>consumo_prom_no_dom</th>\n",
       "      <th>bimestre</th>\n",
       "      <th>consumo_total_no_dom</th>\n",
       "      <th>gid</th>\n",
       "      <th>indice_des</th>\n",
       "      <th>latitud</th>\n",
       "      <th>longitud</th>\n",
       "    </tr>\n",
       "  </thead>\n",
       "  <tbody>\n",
       "    <tr>\n",
       "      <th>0</th>\n",
       "      <td>159.72</td>\n",
       "      <td>2019</td>\n",
       "      <td>gustavo a. madero</td>\n",
       "      <td>42.566364</td>\n",
       "      <td>468.23</td>\n",
       "      <td>gustavo a. madero</td>\n",
       "      <td>7 de noviembre</td>\n",
       "      <td>53.24</td>\n",
       "      <td>631.00</td>\n",
       "      <td>42.066667</td>\n",
       "      <td>3.05</td>\n",
       "      <td>3</td>\n",
       "      <td>3.05</td>\n",
       "      <td>57250</td>\n",
       "      <td>alto</td>\n",
       "      <td>19.455260</td>\n",
       "      <td>-99.112662</td>\n",
       "    </tr>\n",
       "    <tr>\n",
       "      <th>1</th>\n",
       "      <td>0.00</td>\n",
       "      <td>2019</td>\n",
       "      <td>gustavo a. madero</td>\n",
       "      <td>35.936667</td>\n",
       "      <td>107.81</td>\n",
       "      <td>gustavo a. madero</td>\n",
       "      <td>7 de noviembre</td>\n",
       "      <td>0.00</td>\n",
       "      <td>115.13</td>\n",
       "      <td>28.782500</td>\n",
       "      <td>7.32</td>\n",
       "      <td>3</td>\n",
       "      <td>7.32</td>\n",
       "      <td>57253</td>\n",
       "      <td>medio</td>\n",
       "      <td>19.455260</td>\n",
       "      <td>-99.112662</td>\n",
       "    </tr>\n",
       "    <tr>\n",
       "      <th>2</th>\n",
       "      <td>0.00</td>\n",
       "      <td>2019</td>\n",
       "      <td>gustavo a. madero</td>\n",
       "      <td>24.586000</td>\n",
       "      <td>122.93</td>\n",
       "      <td>gustavo a. madero</td>\n",
       "      <td>7 de noviembre</td>\n",
       "      <td>0.00</td>\n",
       "      <td>197.96</td>\n",
       "      <td>32.993333</td>\n",
       "      <td>75.03</td>\n",
       "      <td>3</td>\n",
       "      <td>75.03</td>\n",
       "      <td>57255</td>\n",
       "      <td>popular</td>\n",
       "      <td>19.455720</td>\n",
       "      <td>-99.113582</td>\n",
       "    </tr>\n",
       "    <tr>\n",
       "      <th>3</th>\n",
       "      <td>0.00</td>\n",
       "      <td>2019</td>\n",
       "      <td>gustavo a. madero</td>\n",
       "      <td>0.000000</td>\n",
       "      <td>0.00</td>\n",
       "      <td>gustavo a. madero</td>\n",
       "      <td>nueva tenochtitlan</td>\n",
       "      <td>0.00</td>\n",
       "      <td>253.53</td>\n",
       "      <td>84.510000</td>\n",
       "      <td>84.51</td>\n",
       "      <td>3</td>\n",
       "      <td>253.53</td>\n",
       "      <td>57267</td>\n",
       "      <td>bajo</td>\n",
       "      <td>19.459647</td>\n",
       "      <td>-99.104469</td>\n",
       "    </tr>\n",
       "    <tr>\n",
       "      <th>4</th>\n",
       "      <td>56.72</td>\n",
       "      <td>2019</td>\n",
       "      <td>azcapotzalco</td>\n",
       "      <td>67.436250</td>\n",
       "      <td>539.49</td>\n",
       "      <td>azcapotzalco</td>\n",
       "      <td>prohogar</td>\n",
       "      <td>56.72</td>\n",
       "      <td>839.35</td>\n",
       "      <td>76.304545</td>\n",
       "      <td>121.57</td>\n",
       "      <td>3</td>\n",
       "      <td>243.14</td>\n",
       "      <td>57330</td>\n",
       "      <td>bajo</td>\n",
       "      <td>19.474161</td>\n",
       "      <td>-99.146750</td>\n",
       "    </tr>\n",
       "  </tbody>\n",
       "</table>\n",
       "</div>"
      ],
      "text/plain": [
       "   consumo_total_mixto  anio             nomgeo  consumo_prom_dom  \\\n",
       "0               159.72  2019  gustavo a. madero         42.566364   \n",
       "1                 0.00  2019  gustavo a. madero         35.936667   \n",
       "2                 0.00  2019  gustavo a. madero         24.586000   \n",
       "3                 0.00  2019  gustavo a. madero          0.000000   \n",
       "4                56.72  2019       azcapotzalco         67.436250   \n",
       "\n",
       "   consumo_total_dom           alcaldia             colonia  \\\n",
       "0             468.23  gustavo a. madero      7 de noviembre   \n",
       "1             107.81  gustavo a. madero      7 de noviembre   \n",
       "2             122.93  gustavo a. madero      7 de noviembre   \n",
       "3               0.00  gustavo a. madero  nueva tenochtitlan   \n",
       "4             539.49       azcapotzalco            prohogar   \n",
       "\n",
       "   consumo_prom_mixto  consumo_total  consumo_prom  consumo_prom_no_dom  \\\n",
       "0               53.24         631.00     42.066667                 3.05   \n",
       "1                0.00         115.13     28.782500                 7.32   \n",
       "2                0.00         197.96     32.993333                75.03   \n",
       "3                0.00         253.53     84.510000                84.51   \n",
       "4               56.72         839.35     76.304545               121.57   \n",
       "\n",
       "  bimestre  consumo_total_no_dom    gid indice_des    latitud   longitud  \n",
       "0        3                  3.05  57250       alto  19.455260 -99.112662  \n",
       "1        3                  7.32  57253      medio  19.455260 -99.112662  \n",
       "2        3                 75.03  57255    popular  19.455720 -99.113582  \n",
       "3        3                253.53  57267       bajo  19.459647 -99.104469  \n",
       "4        3                243.14  57330       bajo  19.474161 -99.146750  "
      ]
     },
     "execution_count": 55,
     "metadata": {},
     "output_type": "execute_result"
    }
   ],
   "source": [
    "agua.head()"
   ]
  },
  {
   "cell_type": "code",
   "execution_count": 56,
   "metadata": {},
   "outputs": [],
   "source": [
    "agua.drop(columns =[\"nomgeo\", \"anio\", \"colonia\"], inplace = True) "
   ]
  },
  {
   "cell_type": "code",
   "execution_count": 57,
   "metadata": {},
   "outputs": [
    {
     "data": {
      "text/html": [
       "<div>\n",
       "<style scoped>\n",
       "    .dataframe tbody tr th:only-of-type {\n",
       "        vertical-align: middle;\n",
       "    }\n",
       "\n",
       "    .dataframe tbody tr th {\n",
       "        vertical-align: top;\n",
       "    }\n",
       "\n",
       "    .dataframe thead th {\n",
       "        text-align: right;\n",
       "    }\n",
       "</style>\n",
       "<table border=\"1\" class=\"dataframe\">\n",
       "  <thead>\n",
       "    <tr style=\"text-align: right;\">\n",
       "      <th></th>\n",
       "      <th>consumo_total_mixto</th>\n",
       "      <th>consumo_prom_dom</th>\n",
       "      <th>consumo_total_dom</th>\n",
       "      <th>alcaldia</th>\n",
       "      <th>consumo_prom_mixto</th>\n",
       "      <th>consumo_total</th>\n",
       "      <th>consumo_prom</th>\n",
       "      <th>consumo_prom_no_dom</th>\n",
       "      <th>bimestre</th>\n",
       "      <th>consumo_total_no_dom</th>\n",
       "      <th>gid</th>\n",
       "      <th>indice_des</th>\n",
       "      <th>latitud</th>\n",
       "      <th>longitud</th>\n",
       "    </tr>\n",
       "  </thead>\n",
       "  <tbody>\n",
       "    <tr>\n",
       "      <th>0</th>\n",
       "      <td>159.72</td>\n",
       "      <td>42.566364</td>\n",
       "      <td>468.23</td>\n",
       "      <td>gustavo a. madero</td>\n",
       "      <td>53.24</td>\n",
       "      <td>631.00</td>\n",
       "      <td>42.066667</td>\n",
       "      <td>3.05</td>\n",
       "      <td>3</td>\n",
       "      <td>3.05</td>\n",
       "      <td>57250</td>\n",
       "      <td>alto</td>\n",
       "      <td>19.455260</td>\n",
       "      <td>-99.112662</td>\n",
       "    </tr>\n",
       "    <tr>\n",
       "      <th>1</th>\n",
       "      <td>0.00</td>\n",
       "      <td>35.936667</td>\n",
       "      <td>107.81</td>\n",
       "      <td>gustavo a. madero</td>\n",
       "      <td>0.00</td>\n",
       "      <td>115.13</td>\n",
       "      <td>28.782500</td>\n",
       "      <td>7.32</td>\n",
       "      <td>3</td>\n",
       "      <td>7.32</td>\n",
       "      <td>57253</td>\n",
       "      <td>medio</td>\n",
       "      <td>19.455260</td>\n",
       "      <td>-99.112662</td>\n",
       "    </tr>\n",
       "    <tr>\n",
       "      <th>2</th>\n",
       "      <td>0.00</td>\n",
       "      <td>24.586000</td>\n",
       "      <td>122.93</td>\n",
       "      <td>gustavo a. madero</td>\n",
       "      <td>0.00</td>\n",
       "      <td>197.96</td>\n",
       "      <td>32.993333</td>\n",
       "      <td>75.03</td>\n",
       "      <td>3</td>\n",
       "      <td>75.03</td>\n",
       "      <td>57255</td>\n",
       "      <td>popular</td>\n",
       "      <td>19.455720</td>\n",
       "      <td>-99.113582</td>\n",
       "    </tr>\n",
       "    <tr>\n",
       "      <th>3</th>\n",
       "      <td>0.00</td>\n",
       "      <td>0.000000</td>\n",
       "      <td>0.00</td>\n",
       "      <td>gustavo a. madero</td>\n",
       "      <td>0.00</td>\n",
       "      <td>253.53</td>\n",
       "      <td>84.510000</td>\n",
       "      <td>84.51</td>\n",
       "      <td>3</td>\n",
       "      <td>253.53</td>\n",
       "      <td>57267</td>\n",
       "      <td>bajo</td>\n",
       "      <td>19.459647</td>\n",
       "      <td>-99.104469</td>\n",
       "    </tr>\n",
       "    <tr>\n",
       "      <th>4</th>\n",
       "      <td>56.72</td>\n",
       "      <td>67.436250</td>\n",
       "      <td>539.49</td>\n",
       "      <td>azcapotzalco</td>\n",
       "      <td>56.72</td>\n",
       "      <td>839.35</td>\n",
       "      <td>76.304545</td>\n",
       "      <td>121.57</td>\n",
       "      <td>3</td>\n",
       "      <td>243.14</td>\n",
       "      <td>57330</td>\n",
       "      <td>bajo</td>\n",
       "      <td>19.474161</td>\n",
       "      <td>-99.146750</td>\n",
       "    </tr>\n",
       "  </tbody>\n",
       "</table>\n",
       "</div>"
      ],
      "text/plain": [
       "   consumo_total_mixto  consumo_prom_dom  consumo_total_dom  \\\n",
       "0               159.72         42.566364             468.23   \n",
       "1                 0.00         35.936667             107.81   \n",
       "2                 0.00         24.586000             122.93   \n",
       "3                 0.00          0.000000               0.00   \n",
       "4                56.72         67.436250             539.49   \n",
       "\n",
       "            alcaldia  consumo_prom_mixto  consumo_total  consumo_prom  \\\n",
       "0  gustavo a. madero               53.24         631.00     42.066667   \n",
       "1  gustavo a. madero                0.00         115.13     28.782500   \n",
       "2  gustavo a. madero                0.00         197.96     32.993333   \n",
       "3  gustavo a. madero                0.00         253.53     84.510000   \n",
       "4       azcapotzalco               56.72         839.35     76.304545   \n",
       "\n",
       "   consumo_prom_no_dom bimestre  consumo_total_no_dom    gid indice_des  \\\n",
       "0                 3.05        3                  3.05  57250       alto   \n",
       "1                 7.32        3                  7.32  57253      medio   \n",
       "2                75.03        3                 75.03  57255    popular   \n",
       "3                84.51        3                253.53  57267       bajo   \n",
       "4               121.57        3                243.14  57330       bajo   \n",
       "\n",
       "     latitud   longitud  \n",
       "0  19.455260 -99.112662  \n",
       "1  19.455260 -99.112662  \n",
       "2  19.455720 -99.113582  \n",
       "3  19.459647 -99.104469  \n",
       "4  19.474161 -99.146750  "
      ]
     },
     "execution_count": 57,
     "metadata": {},
     "output_type": "execute_result"
    }
   ],
   "source": [
    "agua.head()"
   ]
  },
  {
   "cell_type": "code",
   "execution_count": 63,
   "metadata": {},
   "outputs": [],
   "source": [
    "#agua['indice_des'].unique()"
   ]
  },
  {
   "cell_type": "code",
   "execution_count": 62,
   "metadata": {},
   "outputs": [
    {
     "data": {
      "text/plain": [
       "['alto', 'medio', 'popular', 'bajo']"
      ]
     },
     "execution_count": 62,
     "metadata": {},
     "output_type": "execute_result"
    }
   ],
   "source": [
    "indices_des_que_hay = list(agua['indice_des'].unique())\n",
    "indices_des_que_hay"
   ]
  },
  {
   "cell_type": "code",
   "execution_count": 64,
   "metadata": {},
   "outputs": [],
   "source": [
    "indice_alto = agua.loc[agua[\"indice_des\"] == 'alto']\n",
    "indice_medio = agua.loc[agua[\"indice_des\"] == 'medio']\n",
    "indice_popular = agua.loc[agua[\"indice_des\"] == 'popular']\n",
    "indice_bajo = agua.loc[agua[\"indice_des\"] == 'bajo']"
   ]
  },
  {
   "cell_type": "code",
   "execution_count": 77,
   "metadata": {},
   "outputs": [
    {
     "name": "stdout",
     "output_type": "stream",
     "text": [
      "15516\n",
      "El dataframe tiene 14 columnas.\n",
      "Hay 4 columnas que tienen NA's.\n"
     ]
    },
    {
     "data": {
      "text/html": [
       "<div>\n",
       "<style scoped>\n",
       "    .dataframe tbody tr th:only-of-type {\n",
       "        vertical-align: middle;\n",
       "    }\n",
       "\n",
       "    .dataframe tbody tr th {\n",
       "        vertical-align: top;\n",
       "    }\n",
       "\n",
       "    .dataframe thead th {\n",
       "        text-align: right;\n",
       "    }\n",
       "</style>\n",
       "<table border=\"1\" class=\"dataframe\">\n",
       "  <thead>\n",
       "    <tr style=\"text-align: right;\">\n",
       "      <th></th>\n",
       "      <th>Missing Values</th>\n",
       "      <th>% del Total</th>\n",
       "      <th>indice</th>\n",
       "    </tr>\n",
       "  </thead>\n",
       "  <tbody>\n",
       "    <tr>\n",
       "      <th>consumo_total_mixto</th>\n",
       "      <td>1775</td>\n",
       "      <td>11.4</td>\n",
       "      <td>alto</td>\n",
       "    </tr>\n",
       "    <tr>\n",
       "      <th>consumo_prom_mixto</th>\n",
       "      <td>1775</td>\n",
       "      <td>11.4</td>\n",
       "      <td>alto</td>\n",
       "    </tr>\n",
       "    <tr>\n",
       "      <th>consumo_prom_dom</th>\n",
       "      <td>367</td>\n",
       "      <td>2.4</td>\n",
       "      <td>alto</td>\n",
       "    </tr>\n",
       "    <tr>\n",
       "      <th>consumo_total_dom</th>\n",
       "      <td>367</td>\n",
       "      <td>2.4</td>\n",
       "      <td>alto</td>\n",
       "    </tr>\n",
       "  </tbody>\n",
       "</table>\n",
       "</div>"
      ],
      "text/plain": [
       "                     Missing Values  % del Total indice\n",
       "consumo_total_mixto            1775         11.4   alto\n",
       "consumo_prom_mixto             1775         11.4   alto\n",
       "consumo_prom_dom                367          2.4   alto\n",
       "consumo_total_dom               367          2.4   alto"
      ]
     },
     "execution_count": 77,
     "metadata": {},
     "output_type": "execute_result"
    }
   ],
   "source": [
    "print(len(indice_alto))\n",
    "tabla_alto = eda_eq.cuenta_nulos_por_columnas(indice_alto)\n",
    "tabla_alto['indice'] = 'alto'\n",
    "tabla_alto"
   ]
  },
  {
   "cell_type": "code",
   "execution_count": 78,
   "metadata": {},
   "outputs": [
    {
     "name": "stdout",
     "output_type": "stream",
     "text": [
      "9799\n",
      "El dataframe tiene 14 columnas.\n",
      "Hay 4 columnas que tienen NA's.\n"
     ]
    },
    {
     "data": {
      "text/html": [
       "<div>\n",
       "<style scoped>\n",
       "    .dataframe tbody tr th:only-of-type {\n",
       "        vertical-align: middle;\n",
       "    }\n",
       "\n",
       "    .dataframe tbody tr th {\n",
       "        vertical-align: top;\n",
       "    }\n",
       "\n",
       "    .dataframe thead th {\n",
       "        text-align: right;\n",
       "    }\n",
       "</style>\n",
       "<table border=\"1\" class=\"dataframe\">\n",
       "  <thead>\n",
       "    <tr style=\"text-align: right;\">\n",
       "      <th></th>\n",
       "      <th>Missing Values</th>\n",
       "      <th>% del Total</th>\n",
       "      <th>indice</th>\n",
       "    </tr>\n",
       "  </thead>\n",
       "  <tbody>\n",
       "    <tr>\n",
       "      <th>consumo_total_mixto</th>\n",
       "      <td>772</td>\n",
       "      <td>7.9</td>\n",
       "      <td>medio</td>\n",
       "    </tr>\n",
       "    <tr>\n",
       "      <th>consumo_prom_mixto</th>\n",
       "      <td>772</td>\n",
       "      <td>7.9</td>\n",
       "      <td>medio</td>\n",
       "    </tr>\n",
       "    <tr>\n",
       "      <th>consumo_prom_dom</th>\n",
       "      <td>358</td>\n",
       "      <td>3.7</td>\n",
       "      <td>medio</td>\n",
       "    </tr>\n",
       "    <tr>\n",
       "      <th>consumo_total_dom</th>\n",
       "      <td>358</td>\n",
       "      <td>3.7</td>\n",
       "      <td>medio</td>\n",
       "    </tr>\n",
       "  </tbody>\n",
       "</table>\n",
       "</div>"
      ],
      "text/plain": [
       "                     Missing Values  % del Total indice\n",
       "consumo_total_mixto             772          7.9  medio\n",
       "consumo_prom_mixto              772          7.9  medio\n",
       "consumo_prom_dom                358          3.7  medio\n",
       "consumo_total_dom               358          3.7  medio"
      ]
     },
     "execution_count": 78,
     "metadata": {},
     "output_type": "execute_result"
    }
   ],
   "source": [
    "print(len(indice_medio))\n",
    "tabla_medio = eda_eq.cuenta_nulos_por_columnas(indice_medio)\n",
    "tabla_medio['indice'] = 'medio'\n",
    "tabla_medio"
   ]
  },
  {
   "cell_type": "code",
   "execution_count": 79,
   "metadata": {},
   "outputs": [
    {
     "name": "stdout",
     "output_type": "stream",
     "text": [
      "16539\n",
      "El dataframe tiene 14 columnas.\n",
      "Hay 4 columnas que tienen NA's.\n"
     ]
    },
    {
     "data": {
      "text/html": [
       "<div>\n",
       "<style scoped>\n",
       "    .dataframe tbody tr th:only-of-type {\n",
       "        vertical-align: middle;\n",
       "    }\n",
       "\n",
       "    .dataframe tbody tr th {\n",
       "        vertical-align: top;\n",
       "    }\n",
       "\n",
       "    .dataframe thead th {\n",
       "        text-align: right;\n",
       "    }\n",
       "</style>\n",
       "<table border=\"1\" class=\"dataframe\">\n",
       "  <thead>\n",
       "    <tr style=\"text-align: right;\">\n",
       "      <th></th>\n",
       "      <th>Missing Values</th>\n",
       "      <th>% del Total</th>\n",
       "      <th>indice</th>\n",
       "    </tr>\n",
       "  </thead>\n",
       "  <tbody>\n",
       "    <tr>\n",
       "      <th>consumo_total_mixto</th>\n",
       "      <td>3243</td>\n",
       "      <td>19.6</td>\n",
       "      <td>popular</td>\n",
       "    </tr>\n",
       "    <tr>\n",
       "      <th>consumo_prom_mixto</th>\n",
       "      <td>3243</td>\n",
       "      <td>19.6</td>\n",
       "      <td>popular</td>\n",
       "    </tr>\n",
       "    <tr>\n",
       "      <th>consumo_prom_dom</th>\n",
       "      <td>2507</td>\n",
       "      <td>15.2</td>\n",
       "      <td>popular</td>\n",
       "    </tr>\n",
       "    <tr>\n",
       "      <th>consumo_total_dom</th>\n",
       "      <td>2507</td>\n",
       "      <td>15.2</td>\n",
       "      <td>popular</td>\n",
       "    </tr>\n",
       "  </tbody>\n",
       "</table>\n",
       "</div>"
      ],
      "text/plain": [
       "                     Missing Values  % del Total   indice\n",
       "consumo_total_mixto            3243         19.6  popular\n",
       "consumo_prom_mixto             3243         19.6  popular\n",
       "consumo_prom_dom               2507         15.2  popular\n",
       "consumo_total_dom              2507         15.2  popular"
      ]
     },
     "execution_count": 79,
     "metadata": {},
     "output_type": "execute_result"
    }
   ],
   "source": [
    "print(len(indice_popular))\n",
    "tabla_popular = eda_eq.cuenta_nulos_por_columnas(indice_popular)\n",
    "tabla_popular['indice'] = 'popular'\n",
    "tabla_popular"
   ]
  },
  {
   "cell_type": "code",
   "execution_count": 80,
   "metadata": {},
   "outputs": [
    {
     "name": "stdout",
     "output_type": "stream",
     "text": [
      "29248\n",
      "El dataframe tiene 14 columnas.\n",
      "Hay 4 columnas que tienen NA's.\n"
     ]
    },
    {
     "data": {
      "text/html": [
       "<div>\n",
       "<style scoped>\n",
       "    .dataframe tbody tr th:only-of-type {\n",
       "        vertical-align: middle;\n",
       "    }\n",
       "\n",
       "    .dataframe tbody tr th {\n",
       "        vertical-align: top;\n",
       "    }\n",
       "\n",
       "    .dataframe thead th {\n",
       "        text-align: right;\n",
       "    }\n",
       "</style>\n",
       "<table border=\"1\" class=\"dataframe\">\n",
       "  <thead>\n",
       "    <tr style=\"text-align: right;\">\n",
       "      <th></th>\n",
       "      <th>Missing Values</th>\n",
       "      <th>% del Total</th>\n",
       "      <th>indice</th>\n",
       "    </tr>\n",
       "  </thead>\n",
       "  <tbody>\n",
       "    <tr>\n",
       "      <th>consumo_total_mixto</th>\n",
       "      <td>2537</td>\n",
       "      <td>8.7</td>\n",
       "      <td>bajo</td>\n",
       "    </tr>\n",
       "    <tr>\n",
       "      <th>consumo_prom_mixto</th>\n",
       "      <td>2537</td>\n",
       "      <td>8.7</td>\n",
       "      <td>bajo</td>\n",
       "    </tr>\n",
       "    <tr>\n",
       "      <th>consumo_prom_dom</th>\n",
       "      <td>1588</td>\n",
       "      <td>5.4</td>\n",
       "      <td>bajo</td>\n",
       "    </tr>\n",
       "    <tr>\n",
       "      <th>consumo_total_dom</th>\n",
       "      <td>1588</td>\n",
       "      <td>5.4</td>\n",
       "      <td>bajo</td>\n",
       "    </tr>\n",
       "  </tbody>\n",
       "</table>\n",
       "</div>"
      ],
      "text/plain": [
       "                     Missing Values  % del Total indice\n",
       "consumo_total_mixto            2537          8.7   bajo\n",
       "consumo_prom_mixto             2537          8.7   bajo\n",
       "consumo_prom_dom               1588          5.4   bajo\n",
       "consumo_total_dom              1588          5.4   bajo"
      ]
     },
     "execution_count": 80,
     "metadata": {},
     "output_type": "execute_result"
    }
   ],
   "source": [
    "print(len(indice_bajo))\n",
    "tabla_bajo = eda_eq.cuenta_nulos_por_columnas(indice_bajo)\n",
    "tabla_bajo['indice'] = 'bajo'\n",
    "tabla_bajo"
   ]
  },
  {
   "cell_type": "code",
   "execution_count": 75,
   "metadata": {},
   "outputs": [
    {
     "data": {
      "text/html": [
       "<div>\n",
       "<style scoped>\n",
       "    .dataframe tbody tr th:only-of-type {\n",
       "        vertical-align: middle;\n",
       "    }\n",
       "\n",
       "    .dataframe tbody tr th {\n",
       "        vertical-align: top;\n",
       "    }\n",
       "\n",
       "    .dataframe thead th {\n",
       "        text-align: right;\n",
       "    }\n",
       "</style>\n",
       "<table border=\"1\" class=\"dataframe\">\n",
       "  <thead>\n",
       "    <tr style=\"text-align: right;\">\n",
       "      <th></th>\n",
       "      <th>indice_des</th>\n",
       "      <th>porcentaje</th>\n",
       "    </tr>\n",
       "  </thead>\n",
       "  <tbody>\n",
       "    <tr>\n",
       "      <th>bajo</th>\n",
       "      <td>29248</td>\n",
       "      <td>41.14%</td>\n",
       "    </tr>\n",
       "    <tr>\n",
       "      <th>popular</th>\n",
       "      <td>16539</td>\n",
       "      <td>23.26%</td>\n",
       "    </tr>\n",
       "    <tr>\n",
       "      <th>alto</th>\n",
       "      <td>15516</td>\n",
       "      <td>21.82%</td>\n",
       "    </tr>\n",
       "    <tr>\n",
       "      <th>medio</th>\n",
       "      <td>9799</td>\n",
       "      <td>13.78%</td>\n",
       "    </tr>\n",
       "  </tbody>\n",
       "</table>\n",
       "</div>"
      ],
      "text/plain": [
       "         indice_des porcentaje\n",
       "bajo          29248     41.14%\n",
       "popular       16539     23.26%\n",
       "alto          15516     21.82%\n",
       "medio          9799     13.78%"
      ]
     },
     "execution_count": 75,
     "metadata": {},
     "output_type": "execute_result"
    }
   ],
   "source": [
    "eda_eq.CreaTablaConteoPorcentaje(agua,'indice_des',True)"
   ]
  },
  {
   "cell_type": "code",
   "execution_count": 83,
   "metadata": {},
   "outputs": [
    {
     "data": {
      "text/html": [
       "<div>\n",
       "<style scoped>\n",
       "    .dataframe tbody tr th:only-of-type {\n",
       "        vertical-align: middle;\n",
       "    }\n",
       "\n",
       "    .dataframe tbody tr th {\n",
       "        vertical-align: top;\n",
       "    }\n",
       "\n",
       "    .dataframe thead th {\n",
       "        text-align: right;\n",
       "    }\n",
       "</style>\n",
       "<table border=\"1\" class=\"dataframe\">\n",
       "  <thead>\n",
       "    <tr style=\"text-align: right;\">\n",
       "      <th></th>\n",
       "      <th>Missing Values</th>\n",
       "      <th>% del Total</th>\n",
       "      <th>indice</th>\n",
       "      <th>categoria</th>\n",
       "    </tr>\n",
       "  </thead>\n",
       "  <tbody>\n",
       "    <tr>\n",
       "      <th>consumo_total_mixto</th>\n",
       "      <td>1775</td>\n",
       "      <td>11.4</td>\n",
       "      <td>alto</td>\n",
       "      <td>consumo_total_mixto</td>\n",
       "    </tr>\n",
       "    <tr>\n",
       "      <th>consumo_prom_mixto</th>\n",
       "      <td>1775</td>\n",
       "      <td>11.4</td>\n",
       "      <td>alto</td>\n",
       "      <td>consumo_prom_mixto</td>\n",
       "    </tr>\n",
       "    <tr>\n",
       "      <th>consumo_prom_dom</th>\n",
       "      <td>367</td>\n",
       "      <td>2.4</td>\n",
       "      <td>alto</td>\n",
       "      <td>consumo_prom_dom</td>\n",
       "    </tr>\n",
       "    <tr>\n",
       "      <th>consumo_total_dom</th>\n",
       "      <td>367</td>\n",
       "      <td>2.4</td>\n",
       "      <td>alto</td>\n",
       "      <td>consumo_total_dom</td>\n",
       "    </tr>\n",
       "    <tr>\n",
       "      <th>consumo_total_mixto</th>\n",
       "      <td>772</td>\n",
       "      <td>7.9</td>\n",
       "      <td>medio</td>\n",
       "      <td>consumo_total_mixto</td>\n",
       "    </tr>\n",
       "    <tr>\n",
       "      <th>consumo_prom_mixto</th>\n",
       "      <td>772</td>\n",
       "      <td>7.9</td>\n",
       "      <td>medio</td>\n",
       "      <td>consumo_prom_mixto</td>\n",
       "    </tr>\n",
       "    <tr>\n",
       "      <th>consumo_prom_dom</th>\n",
       "      <td>358</td>\n",
       "      <td>3.7</td>\n",
       "      <td>medio</td>\n",
       "      <td>consumo_prom_dom</td>\n",
       "    </tr>\n",
       "    <tr>\n",
       "      <th>consumo_total_dom</th>\n",
       "      <td>358</td>\n",
       "      <td>3.7</td>\n",
       "      <td>medio</td>\n",
       "      <td>consumo_total_dom</td>\n",
       "    </tr>\n",
       "    <tr>\n",
       "      <th>consumo_total_mixto</th>\n",
       "      <td>3243</td>\n",
       "      <td>19.6</td>\n",
       "      <td>popular</td>\n",
       "      <td>consumo_total_mixto</td>\n",
       "    </tr>\n",
       "    <tr>\n",
       "      <th>consumo_prom_mixto</th>\n",
       "      <td>3243</td>\n",
       "      <td>19.6</td>\n",
       "      <td>popular</td>\n",
       "      <td>consumo_prom_mixto</td>\n",
       "    </tr>\n",
       "    <tr>\n",
       "      <th>consumo_prom_dom</th>\n",
       "      <td>2507</td>\n",
       "      <td>15.2</td>\n",
       "      <td>popular</td>\n",
       "      <td>consumo_prom_dom</td>\n",
       "    </tr>\n",
       "    <tr>\n",
       "      <th>consumo_total_dom</th>\n",
       "      <td>2507</td>\n",
       "      <td>15.2</td>\n",
       "      <td>popular</td>\n",
       "      <td>consumo_total_dom</td>\n",
       "    </tr>\n",
       "    <tr>\n",
       "      <th>consumo_total_mixto</th>\n",
       "      <td>2537</td>\n",
       "      <td>8.7</td>\n",
       "      <td>bajo</td>\n",
       "      <td>consumo_total_mixto</td>\n",
       "    </tr>\n",
       "    <tr>\n",
       "      <th>consumo_prom_mixto</th>\n",
       "      <td>2537</td>\n",
       "      <td>8.7</td>\n",
       "      <td>bajo</td>\n",
       "      <td>consumo_prom_mixto</td>\n",
       "    </tr>\n",
       "    <tr>\n",
       "      <th>consumo_prom_dom</th>\n",
       "      <td>1588</td>\n",
       "      <td>5.4</td>\n",
       "      <td>bajo</td>\n",
       "      <td>consumo_prom_dom</td>\n",
       "    </tr>\n",
       "    <tr>\n",
       "      <th>consumo_total_dom</th>\n",
       "      <td>1588</td>\n",
       "      <td>5.4</td>\n",
       "      <td>bajo</td>\n",
       "      <td>consumo_total_dom</td>\n",
       "    </tr>\n",
       "  </tbody>\n",
       "</table>\n",
       "</div>"
      ],
      "text/plain": [
       "                     Missing Values  % del Total   indice            categoria\n",
       "consumo_total_mixto            1775         11.4     alto  consumo_total_mixto\n",
       "consumo_prom_mixto             1775         11.4     alto   consumo_prom_mixto\n",
       "consumo_prom_dom                367          2.4     alto     consumo_prom_dom\n",
       "consumo_total_dom               367          2.4     alto    consumo_total_dom\n",
       "consumo_total_mixto             772          7.9    medio  consumo_total_mixto\n",
       "consumo_prom_mixto              772          7.9    medio   consumo_prom_mixto\n",
       "consumo_prom_dom                358          3.7    medio     consumo_prom_dom\n",
       "consumo_total_dom               358          3.7    medio    consumo_total_dom\n",
       "consumo_total_mixto            3243         19.6  popular  consumo_total_mixto\n",
       "consumo_prom_mixto             3243         19.6  popular   consumo_prom_mixto\n",
       "consumo_prom_dom               2507         15.2  popular     consumo_prom_dom\n",
       "consumo_total_dom              2507         15.2  popular    consumo_total_dom\n",
       "consumo_total_mixto            2537          8.7     bajo  consumo_total_mixto\n",
       "consumo_prom_mixto             2537          8.7     bajo   consumo_prom_mixto\n",
       "consumo_prom_dom               1588          5.4     bajo     consumo_prom_dom\n",
       "consumo_total_dom              1588          5.4     bajo    consumo_total_dom"
      ]
     },
     "execution_count": 83,
     "metadata": {},
     "output_type": "execute_result"
    }
   ],
   "source": [
    "tabla_todos_NA = tabla_alto.append(tabla_medio)\n",
    "tabla_todos_NA = tabla_todos_NA.append(tabla_popular)\n",
    "tabla_todos_NA = tabla_todos_NA.append(tabla_bajo)\n",
    "tabla_todos_NA['categoria']= tabla_todos_NA.index\n",
    "tabla_todos_NA"
   ]
  },
  {
   "cell_type": "code",
   "execution_count": 99,
   "metadata": {},
   "outputs": [
    {
     "data": {
      "image/png": "[encoded data removed]",
      "text/plain": [
       "<Figure size 432x288 with 1 Axes>"
      ]
     },
     "metadata": {
      "needs_background": "light"
     },
     "output_type": "display_data"
    }
   ],
   "source": [
    "import seaborn as sns\n",
    "import matplotlib.pyplot as plt\n",
    "\n",
    "\n",
    "chart = sns.barplot(x = 'categoria', y = 'Missing Values', hue = 'indice', data = tabla_todos_NA )\n",
    "\n",
    "#Poner el título a la gráfica\n",
    "chart.set_title(\"Cantidad absoluta de NA's por variable y su distinción por indice de desarrollo\")\n",
    "\n",
    "# Rotar labels del eje x\n",
    "chart.set_xticklabels(chart.get_xticklabels(), rotation=10)\n",
    "\n",
    "#Mover cuadro de leyendas afuera de la gráfica\n",
    "plt.legend(bbox_to_anchor=(1.01, 1),borderaxespad=0)\n",
    "plt.tight_layout()"
   ]
  },
  {
   "cell_type": "code",
   "execution_count": 100,
   "metadata": {},
   "outputs": [
    {
     "data": {
      "image/png": "[encoded data removed]",
      "text/plain": [
       "<Figure size 432x288 with 1 Axes>"
      ]
     },
     "metadata": {
      "needs_background": "light"
     },
     "output_type": "display_data"
    }
   ],
   "source": [
    "chart = sns.barplot(x = 'categoria', y = '% del Total', hue = 'indice', data = tabla_todos_NA )\n",
    "\n",
    "#Poner el título a la gráfica\n",
    "chart.set_title(\"Cantidad relativa de NA's por variable y su distinción por indice de desarrollo\")\n",
    "\n",
    "# Rotar labels del eje x\n",
    "chart.set_xticklabels(chart.get_xticklabels(), rotation=10)\n",
    "\n",
    "#Mover cuadro de leyendas afuera de la gráfica\n",
    "plt.legend(bbox_to_anchor=(1.01, 1),borderaxespad=0)\n",
    "plt.tight_layout()"
   ]
  },
  {
   "cell_type": "markdown",
   "metadata": {},
   "source": [
    "## GEDA"
   ]
  },
  {
   "cell_type": "markdown",
   "metadata": {},
   "source": [
    "### Análisis de ceros"
   ]
  },
  {
   "cell_type": "code",
   "execution_count": 8,
   "metadata": {},
   "outputs": [
    {
     "name": "stdout",
     "output_type": "stream",
     "text": [
      "The autoreload extension is already loaded. To reload it, use:\n",
      "  %reload_ext autoreload\n"
     ]
    }
   ],
   "source": [
    "### Libreria necesaria\n",
    "#imports del notebook anterior\n",
    "import re\n",
    "import pandas as pd\n",
    "import numpy as np\n",
    "from pandas_profiling import ProfileReport\n",
    "import csv\n",
    "import requests\n",
    "\n",
    "#disable warnings messages\n",
    "import warnings\n",
    "warnings.simplefilter(\"ignore\")\n",
    "\n",
    "#imports para graficar\n",
    "import matplotlib.pyplot as plt\n",
    "import seaborn as sns\n",
    "\n",
    "#importando librería propia\n",
    "import sys\n",
    "sys.path.append('./../')\n",
    "\n",
    "# OPTIONAL: Load the \"autoreload\" extension so that code can change\n",
    "%load_ext autoreload\n",
    "\n",
    "#Own Library modules\n",
    "import src\n",
    "# OPTIONAL: always reload modules so that as you change code in src, it gets loaded\n",
    "%autoreload 2\n",
    "\n",
    "from src.algorithms import eda as eda_eq"
   ]
  },
  {
   "cell_type": "code",
   "execution_count": 25,
   "metadata": {},
   "outputs": [],
   "source": [
    "agua = eda_eq.prepara_dataset(agua)"
   ]
  },
  {
   "cell_type": "code",
   "execution_count": 26,
   "metadata": {},
   "outputs": [
    {
     "name": "stdout",
     "output_type": "stream",
     "text": [
      "['consumo_total_mixto' 'consumo_prom_dom' 'consumo_total_dom'\n",
      " 'consumo_prom_mixto' 'consumo_total' 'consumo_prom' 'consumo_prom_no_dom'\n",
      " 'consumo_total_no_dom']\n"
     ]
    }
   ],
   "source": [
    "variables_numericas = np.array([\"consumo_total_mixto\", \"consumo_prom_dom\", \"consumo_total_dom\", \n",
    "                                \"consumo_prom_mixto\", \"consumo_total\", \"consumo_prom\", \"consumo_prom_no_dom\",\n",
    "                               \"consumo_total_no_dom\"])\n",
    "print(variables_numericas)"
   ]
  },
  {
   "cell_type": "markdown",
   "metadata": {},
   "source": [
    "Los siguientes histogramas muestran la **gran densidad en niveles bajos** (ceros y/o cercanos a dicho valor), además de que se logra apreciar que todas las variables poseen colas pesadas, pues hay valores muy altos para todas las variables."
   ]
  },
  {
   "cell_type": "code",
   "execution_count": 27,
   "metadata": {
    "scrolled": false
   },
   "outputs": [
    {
     "data": {
      "image/png": "[encoded data removed]",
      "text/plain": [
       "<Figure size 432x288 with 1 Axes>"
      ]
     },
     "metadata": {
      "needs_background": "light"
     },
     "output_type": "display_data"
    },
    {
     "data": {
      "image/png": "[encoded data removed]",
      "text/plain": [
       "<Figure size 432x288 with 1 Axes>"
      ]
     },
     "metadata": {
      "needs_background": "light"
     },
     "output_type": "display_data"
    },
    {
     "data": {
      "image/png": "[encoded data removed]",
      "text/plain": [
       "<Figure size 432x288 with 1 Axes>"
      ]
     },
     "metadata": {
      "needs_background": "light"
     },
     "output_type": "display_data"
    },
    {
     "data": {
      "image/png": "[encoded data removed]",
      "text/plain": [
       "<Figure size 432x288 with 1 Axes>"
      ]
     },
     "metadata": {
      "needs_background": "light"
     },
     "output_type": "display_data"
    },
    {
     "data": {
      "image/png": "[encoded data removed]",
      "text/plain": [
       "<Figure size 432x288 with 1 Axes>"
      ]
     },
     "metadata": {
      "needs_background": "light"
     },
     "output_type": "display_data"
    },
    {
     "data": {
      "image/png": "[encoded data removed]",
      "text/plain": [
       "<Figure size 432x288 with 1 Axes>"
      ]
     },
     "metadata": {
      "needs_background": "light"
     },
     "output_type": "display_data"
    },
    {
     "data": {
      "image/png": "[encoded data removed]",
      "text/plain": [
       "<Figure size 432x288 with 1 Axes>"
      ]
     },
     "metadata": {
      "needs_background": "light"
     },
     "output_type": "display_data"
    },
    {
     "data": {
      "image/png": "[encoded data removed]",
      "text/plain": [
       "<Figure size 432x288 with 1 Axes>"
      ]
     },
     "metadata": {
      "needs_background": "light"
     },
     "output_type": "display_data"
    }
   ],
   "source": [
    "for column in variables_numericas:\n",
    "    plt.figure()\n",
    "    sns.distplot(agua[column])"
   ]
  },
  {
   "cell_type": "markdown",
   "metadata": {},
   "source": [
    "En la siguiente sección se realizará un análisis detallado en aquellas observaciones donde no hubo medición en el consumo de agua, es decir, en donde el **consumo fue cero** para el periodo en cuestión."
   ]
  },
  {
   "cell_type": "code",
   "execution_count": 28,
   "metadata": {},
   "outputs": [],
   "source": [
    "# Filtrar por suma por renglones igual a cero\n",
    "agua[\"suma\"] = agua[variables_numericas].sum(axis=1)\n",
    "agua_no_zero = agua[agua.suma == 0]\n",
    "agua_no_zero = agua_no_zero[agua.columns.difference(np.append(variables_numericas, 'suma'))]"
   ]
  },
  {
   "cell_type": "code",
   "execution_count": 29,
   "metadata": {},
   "outputs": [
    {
     "name": "stdout",
     "output_type": "stream",
     "text": [
      "0.03447160417428483\n"
     ]
    }
   ],
   "source": [
    "n_zero = agua_no_zero.shape[0]\n",
    "n_agua = agua.shape[0]\n",
    "print(n_zero/n_agua)"
   ]
  },
  {
   "cell_type": "markdown",
   "metadata": {},
   "source": [
    "Los valores que contienen puros ceros en las variables numéricas corresponden aproximadamente al $3.4\\%$ de los datos, se preguntará a cliente porqué tenemos observaciones sin consumo de agua para dichos periodos y lugares:\n",
    "* ¿Esto se debe a un error de medición o captura de los datos?\n",
    "* ¿Son establecimientos que no son habitados o fueron deshabitados a lo largo del periodo en cuestión? \n",
    "* Alguna otra opción."
   ]
  },
  {
   "cell_type": "code",
   "execution_count": 30,
   "metadata": {},
   "outputs": [
    {
     "name": "stdout",
     "output_type": "stream",
     "text": [
      "alcaldia\n",
      "col_0                count\n",
      "alcaldia                  \n",
      "iztapalapa            1119\n",
      "tlalpan                420\n",
      "gustavo a. madero      159\n",
      "coyoacan               136\n",
      "magdalena contreras    115\n",
      "bimestre\n",
      "col_0     count\n",
      "bimestre       \n",
      "1           836\n",
      "2           810\n",
      "3           805\n",
      "colonia\n",
      "col_0                         count\n",
      "colonia                            \n",
      "santa maria aztahuacan           51\n",
      "xalpa                            48\n",
      "buenavista                       46\n",
      "lomas de zaragoza                36\n",
      "pueblo santa cruz meyehualco     35\n",
      "gid\n",
      "col_0  count\n",
      "gid         \n",
      "321        1\n",
      "47242      1\n",
      "47225      1\n",
      "47226      1\n",
      "47228      1\n",
      "indice_des\n",
      "col_0       count\n",
      "indice_des       \n",
      "popular      1227\n",
      "bajo          952\n",
      "medio         202\n",
      "alto           70\n",
      "nomgeo\n",
      "col_0                   count\n",
      "nomgeo                       \n",
      "iztapalapa               1119\n",
      "tlalpan                   420\n",
      "gustavo a. madero         159\n",
      "coyoacan                  136\n",
      "la magdalena contreras    115\n"
     ]
    }
   ],
   "source": [
    "variables_categoricas = np.array(['alcaldia', 'bimestre', 'colonia', 'gid', 'indice_des', 'nomgeo'])\n",
    "for column in variables_categoricas:\n",
    "    aux = pd.crosstab(index = agua_no_zero[column], columns='count')\n",
    "    aux = aux.sort_values('count', ascending = False)\n",
    "    print(column)\n",
    "    print(aux.head())"
   ]
  },
  {
   "cell_type": "markdown",
   "metadata": {},
   "source": [
    "* La alcaldía de Iztapalapa tiene una cantidad de ceros \"fuera de lo común\", en el sentido de que se encuentra muy por encima de los demás valores.\n",
    "* El índice de desarrollo popular tiene una cantidad de ceros \"fuera de lo común\".\n",
    "* Entre las demás variables, la cantidad de ceros no es fuera de lo común (los rangos de dispersión no son muy altos)."
   ]
  },
  {
   "cell_type": "code",
   "execution_count": 31,
   "metadata": {},
   "outputs": [
    {
     "data": {
      "text/plain": [
       "Text(0.5, 1.0, 'Distribución de ceros por alcaldías y colonias')"
      ]
     },
     "execution_count": 31,
     "metadata": {},
     "output_type": "execute_result"
    },
    {
     "data": {
      "image/png": "[encoded data removed]",
      "text/plain": [
       "<Figure size 432x288 with 2 Axes>"
      ]
     },
     "metadata": {
      "needs_background": "light"
     },
     "output_type": "display_data"
    }
   ],
   "source": [
    "cross_col_alc = pd.crosstab(index = agua_no_zero['colonia'], columns =  agua_no_zero['alcaldia'])\n",
    "sns.heatmap(cross_col_alc, \n",
    "            cmap = sns.diverging_palette(20, 220, n = 200), \n",
    "            center = 0).set_title('Distribución de ceros por alcaldías y colonias')"
   ]
  },
  {
   "cell_type": "markdown",
   "metadata": {},
   "source": [
    "Cabe mencionar que no todas las colonias se encuentran en cada una de las alcaldías, lo cual puede confundir al lector, esta tabla muestra la cantidad de ceros que cada una de las colonias de distintas alcaldías. Nótese que las alcaldías de Iztapalapa y Tlalpan contienen una mayor cantidad de ceros, esto se debe a que son las que contienen más colonias. La siguiente tabla muestra la cantidad de colonias por alcaldía."
   ]
  },
  {
   "cell_type": "code",
   "execution_count": 32,
   "metadata": {},
   "outputs": [
    {
     "data": {
      "text/plain": [
       "alcaldia\n",
       "iztapalapa             1119\n",
       "tlalpan                 420\n",
       "gustavo a. madero       159\n",
       "coyoacan                136\n",
       "magdalena contreras     115\n",
       "xochimilco               98\n",
       "tlahuac                  91\n",
       "alvaro obregon           55\n",
       "milpa alta               42\n",
       "venustiano carranza      37\n",
       "cuajimalpa               37\n",
       "benito juarez            34\n",
       "miguel hidalgo           33\n",
       "cuauhtemoc               28\n",
       "azcapotzalco             25\n",
       "iztacalco                22\n",
       "Name: colonia, dtype: int64"
      ]
     },
     "execution_count": 32,
     "metadata": {},
     "output_type": "execute_result"
    }
   ],
   "source": [
    "n_by_alcaldia = agua_no_zero.groupby(\"alcaldia\")[\"colonia\"].count()\n",
    "n_by_alcaldia = n_by_alcaldia.sort_values(ascending = False)\n",
    "n_by_alcaldia"
   ]
  },
  {
   "cell_type": "code",
   "execution_count": 33,
   "metadata": {},
   "outputs": [
    {
     "data": {
      "text/plain": [
       "Text(0.5, 1.0, 'Distribución de ceros por índice de darrrollo y colonias')"
      ]
     },
     "execution_count": 33,
     "metadata": {},
     "output_type": "execute_result"
    },
    {
     "data": {
      "image/png": "[encoded data removed]",
      "text/plain": [
       "<Figure size 432x288 with 2 Axes>"
      ]
     },
     "metadata": {
      "needs_background": "light"
     },
     "output_type": "display_data"
    }
   ],
   "source": [
    "cross_col_alc = pd.crosstab(index = agua_no_zero['alcaldia'], columns =  agua_no_zero['indice_des'])\n",
    "sns.heatmap(cross_col_alc, \n",
    "            cmap = sns.diverging_palette(20, 220, n = 200), \n",
    "            center = 0).set_title('Distribución de ceros por índice de darrrollo y colonias')"
   ]
  },
  {
   "cell_type": "markdown",
   "metadata": {},
   "source": [
    "Se observa que hay un patrón: independientemente de la alcaldía, si hay ceros en el nivel popular, entonces hay ceros en el nivel bajo y viceversa, por lo que son estos $2$ ídices de desarrollo que son más afectados por la cantidad de ceros, lo cual no es para sorprenderse, debido a que son los que presentan mayor densidad. Sin embargo, para el caso de Tlalpan, se incluye el índice medio, donde se concluye que los 3 niveles son afectados, sin importar la densidad."
   ]
  },
  {
   "cell_type": "code",
   "execution_count": 34,
   "metadata": {},
   "outputs": [
    {
     "data": {
      "text/plain": [
       "indice_des\n",
       "popular    1227\n",
       "bajo        952\n",
       "medio       202\n",
       "alto         70\n",
       "Name: indice_des, dtype: int64"
      ]
     },
     "execution_count": 34,
     "metadata": {},
     "output_type": "execute_result"
    }
   ],
   "source": [
    "n_by_alcaldia = agua_no_zero.groupby(\"indice_des\")[\"indice_des\"].count()\n",
    "n_by_alcaldia = n_by_alcaldia.sort_values(ascending = False)\n",
    "n_by_alcaldia"
   ]
  },
  {
   "cell_type": "code",
   "execution_count": 35,
   "metadata": {},
   "outputs": [
    {
     "data": {
      "text/plain": [
       "Text(0.5, 1.0, 'Distribución de ceros por índice de darrrollo y colonias')"
      ]
     },
     "execution_count": 35,
     "metadata": {},
     "output_type": "execute_result"
    },
    {
     "data": {
      "image/png": "[encoded data removed]",
      "text/plain": [
       "<Figure size 432x288 with 2 Axes>"
      ]
     },
     "metadata": {
      "needs_background": "light"
     },
     "output_type": "display_data"
    }
   ],
   "source": [
    "cross_col_alc = pd.crosstab(index = agua_no_zero['alcaldia'], columns =  agua_no_zero['bimestre'])\n",
    "sns.heatmap(cross_col_alc, \n",
    "            cmap = sns.diverging_palette(20, 220, n = 200), \n",
    "            center = 0).set_title('Distribución de ceros por índice de darrrollo y colonias')"
   ]
  },
  {
   "cell_type": "markdown",
   "metadata": {},
   "source": [
    "Las colonias presentan la misma cantidad de ceros a lo largo del semestre, de lo que concluímos que la presencia de ceros en las observaciones no se debe a un tema temporal, sino que esto se presenta de manera recurrente cada periodo."
   ]
  },
  {
   "cell_type": "code",
   "execution_count": 36,
   "metadata": {},
   "outputs": [
    {
     "data": {
      "text/plain": [
       "Text(0.5, 1.0, 'Longitud y latitud (ceros)')"
      ]
     },
     "execution_count": 36,
     "metadata": {},
     "output_type": "execute_result"
    },
    {
     "data": {
      "image/png": "[encoded data removed]",
      "text/plain": [
       "<Figure size 432x288 with 1 Axes>"
      ]
     },
     "metadata": {
      "needs_background": "light"
     },
     "output_type": "display_data"
    }
   ],
   "source": [
    "agua_no_zero = agua[agua.suma == 0]\n",
    "sns.scatterplot(x = agua_no_zero['longitud'], \n",
    "                y = agua_no_zero['latitud'], \n",
    "                hue = agua_no_zero['indice_des']).set_title('Longitud y latitud (ceros)')"
   ]
  },
  {
   "cell_type": "markdown",
   "metadata": {},
   "source": [
    "Observamos que se pueden observar ciertas zonas en donde hay una mayor agrupación de datos, esto se debe a la densidad en las zonas, no a que haya un fallo en la medición."
   ]
  },
  {
   "cell_type": "markdown",
   "metadata": {},
   "source": [
    "Conclusión:\n",
    "* Las alcaldías con mayor cantidad de ceros son Iztapalapa, seguida de Tlalpan, este punto no es para alarmarse, pues se debe a que son las que presentan una mayor densidad.\n",
    "* A lo largo del tiempo, las distintas alcaldías han tenido el mismo comportamiento en relación a los ceros.\n",
    "* Los principales índices de desarrollo afectados por este \"suceso\" son popular, seguido del bajo, lo cual se debe a la densidad en dichos índices.\n",
    "* Por último, concluimos que la presencia de ceros no se debe a que en una zona haya fallos en la medición o errores de captura, pues es un fenómeno que se presenta de manera similar a lo largo de los tiempos en la misma cantidad para los distintos lugares."
   ]
  }
 ],
 "metadata": {
  "kernelspec": {
   "display_name": "Python 3",
   "language": "python",
   "name": "python3"
  },
  "language_info": {
   "codemirror_mode": {
    "name": "ipython",
    "version": 3
   },
   "file_extension": ".py",
   "mimetype": "text/x-python",
   "name": "python",
   "nbconvert_exporter": "python",
   "pygments_lexer": "ipython3",
   "version": "3.7.3"
  }
 },
 "nbformat": 4,
 "nbformat_minor": 4
}
